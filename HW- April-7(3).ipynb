{
 "cells": [
  {
   "cell_type": "markdown",
   "metadata": {},
   "source": [
    "# Homework 5\n",
    "$Eric Kuhn, Luke Marcoon, Machlan Pettersen$"
   ]
  },
  {
   "cell_type": "markdown",
   "metadata": {},
   "source": [
    "# Problem 1\n",
    "\n",
    "This follows PB 1 of HT-ablation-bl\n",
    "\n",
    " The upstream water flow velocity is $1 \\mathrm{m/s}$ and its upstream temperature is $99^\\circ\\mathrm{C}$. Plot the evolution of the initial ablation velocity in $\\text{mm/s}$ and/or give its values for $x=0.01,0.1,0.2,0.5,1.0\\mathrm{m}$. Discuss which fluid is more likley to achieve the formation of the deepest erosion-driven roughness."
   ]
  },
  {
   "cell_type": "code",
   "execution_count": 1,
   "metadata": {},
   "outputs": [
    {
     "data": {
      "image/png": "[encoded data removed]",
      "text/plain": [
       "<Figure size 432x288 with 1 Axes>"
      ]
     },
     "metadata": {
      "needs_background": "light"
     },
     "output_type": "display_data"
    }
   ],
   "source": [
    "from Libraries import thermodynamics as thermo\n",
    "from Libraries import HT_external_convection as extconv\n",
    "import numpy as np\n",
    "import matplotlib.pyplot as plt\n",
    "import scipy.constants as csts\n",
    "\n",
    "# Upstream water properties:\n",
    "U_infty = 1. #m/s\n",
    "T_infty = 99. #C\n",
    "\n",
    "#Melting surface \n",
    "T_melt = 50. #C\n",
    "\n",
    "#Bottom temperature\n",
    "T_cool = 20. #C\n",
    "\n",
    "#Wax properties\n",
    "k_wax = 0.25 #W/m.K\n",
    "rho_wax = 900. #kg/m^3\n",
    "h_L_wax = 200.0e3 #J/kg\n",
    "t_wax = 0.05 #m\n",
    "L_plate = 1. #m\n",
    "\n",
    "# conduction heat flux in the wax\n",
    "qpp_cond = k_wax*(T_melt - T_cool)/t_wax\n",
    "\n",
    "def Va(qpp, Ts):\n",
    "    global T_melt, rho_wax, h_L_wax, qpp_cond\n",
    "    if (Ts >= T_melt):\n",
    "        Va = np.maximum.reduce([(qpp - qpp_cond)/(rho_wax*h_L_wax), 0.])\n",
    "    else:\n",
    "        Va = 0.\n",
    "    return Va\n",
    "\n",
    "# convection heat flux\n",
    "T_f = (T_melt + T_infty)/2.\n",
    "waterprop = thermo.Fluid('water',thermo.C2K(T_f))\n",
    "waterconv = extconv.FlatPlate('mixed','isothermal',U_infty,waterprop.nu,waterprop.alpha,1.)\n",
    "\n",
    "npts = 5\n",
    "x = np.array([0.01, 0.1, 0.2, 0.5, 1.0])\n",
    "Va_x = np.zeros_like(x)\n",
    "for i in range(npts):\n",
    "    xlocal = x[i]\n",
    "    waterconv.local(xlocal)\n",
    "    hx = waterconv.Nu_x*waterprop.k/xlocal\n",
    "    qpp_x = hx*(T_infty - T_melt)\n",
    "    Va_x[i] = Va(qpp_x,T_melt)\n",
    "\n",
    "# plt.figure(figsize(3,2),dpi=150)\n",
    "plt.plot(x,Va_x*1e3)\n",
    "plt.xlabel(\"$x\\;(\\mathrm{m})$\")\n",
    "plt.ylabel(\"$Va\\;(\\mathrm{mm}/\\mathrm{s})$\")\n",
    "plt.show()"
   ]
  },
  {
   "cell_type": "markdown",
   "metadata": {},
   "source": [
    "According to the plots, the water would have a greater effect on the erosion of the ablative wax material. The velocity is greatly stunted at x = 0.2 m owing to a higher shear at the interface between the wax and the flow."
   ]
  },
  {
   "cell_type": "markdown",
   "metadata": {},
   "source": [
    "# Problem 2\n",
    "<img src='figures_Tube_Banks/probun_07_34.jpg' alt=\"my awesome sketch\" width=100% >\n",
    "An air duct heater consists of an aligned array of electrical heating elements in which the longitudinal and transverse pitches are $S_L=S_T= 24\\text{ mm}$. There are 3 rows of elements in the ﬂow direction ($N_L=3$) and 4 elements per row ($N_T=4$). Atmospheric air with an upstream velocity of $12\\text{ m/s}$ and a temperature of $25^\\circ\\text{C}$ moves in cross ﬂow over the elements, which have a diameter of $12\\text{ mm}$, a length of $250\\text{ mm}$, and are maintained at a surface temperature of $350^\\circ\\text{C}$.\n",
    "<ol>\n",
    "<li>\n",
    "Determine the total heat transfer to the air and the temperature of the air leaving the duct heater.\n",
    "</li>\n",
    "<li>\n",
    "Determine the pressure drop across the element bank and the fan power requirement.\n",
    "</li>\n",
    "<li>\n",
    "Compare the average convection coefﬁcient obtained in your analysis with the value for an isolated (single) element. Explain the difference between the results.\n",
    "</li>\n",
    "<li>\n",
    "What effect would increasing the longitudinal and transverse pitches to 30 mm have on the exit temperature of the air, the total heat rate, and the pressure drop?\n",
    "</li>\n",
    "</ol>"
   ]
  },
  {
   "cell_type": "code",
   "execution_count": 2,
   "metadata": {},
   "outputs": [],
   "source": [
    "#Bank of Tube Properties\n",
    "T_i = 25 #C\n",
    "T_o = 75 #C\n",
    "T_s = 350 #C\n",
    "V_i = 12 #m/s\n",
    "L = 250e-3 #mm\n",
    "D = 12e-3 #mm\n",
    "N_L = 3\n",
    "N_T = 4\n",
    "S_T = S_L = 24e-3 #m\n",
    "\n",
    "bank = extconv.BankofTubes('aligned','air',T_i,T_s,T_o,\"C\",V_i,D,S_L,S_T,N_L)"
   ]
  },
  {
   "cell_type": "markdown",
   "metadata": {},
   "source": [
    "Part 1"
   ]
  },
  {
   "cell_type": "code",
   "execution_count": 3,
   "metadata": {},
   "outputs": [
    {
     "name": "stdout",
     "output_type": "stream",
     "text": [
      "The total heat transfered to the air is q=30599 W\n",
      "With N_L= 3, T_o= 48.28\n"
     ]
    }
   ],
   "source": [
    "bank.heat_rate(N_T,N_L,L=1)\n",
    "print(\"The total heat transfered to the air is q=%.0f W\" %(bank.q))\n",
    "\n",
    "bank.temperature_outlet_tube_banks(N_T,N_L)\n",
    "print(\"With N_L= %.0f, T_o= %.2f\" %(bank.N_L,bank.T_o))"
   ]
  },
  {
   "cell_type": "markdown",
   "metadata": {},
   "source": [
    "Part 2"
   ]
  },
  {
   "cell_type": "code",
   "execution_count": 4,
   "metadata": {},
   "outputs": [
    {
     "name": "stdout",
     "output_type": "stream",
     "text": [
      "With N_L=3, T_o=48.28\n",
      "Re=17379, P_L = 2.00\n",
      "Pressure drop is 204.85 Pa\n",
      "The power required by the fan is 2458.3 W\n"
     ]
    }
   ],
   "source": [
    "print(\"With N_L=%.0f, T_o=%.2f\" %(bank.N_L,bank.T_o))\n",
    "print(\"Re=%.0f, P_L = %.2f\" %(bank.Re,bank.S_T/bank.D))\n",
    "bank.pressure_drop(N_L,0.2,1)\n",
    "print(\"Pressure drop is %.2f Pa\" %(bank.Delta_p))\n",
    "\n",
    "fanPower = bank.Delta_p*V_i\n",
    "print(\"The power required by the fan is %.1f W\" %fanPower)"
   ]
  },
  {
   "cell_type": "markdown",
   "metadata": {},
   "source": [
    "Part 3"
   ]
  },
  {
   "cell_type": "code",
   "execution_count": 5,
   "metadata": {},
   "outputs": [
    {
     "name": "stdout",
     "output_type": "stream",
     "text": [
      "The average convection coefficient for this bank of tubes is 1314.18\n",
      "The convection coefficient for a single element is 319.83\n"
     ]
    }
   ],
   "source": [
    "h = bank.q/(bank.T_o-T_i)\n",
    "print(\"The average convection coefficient for this bank of tubes is %.2f\" %h)\n",
    "\n",
    "N_T = N_L = 1\n",
    "bank2 = extconv.BankofTubes('aligned','air',T_i,T_s,T_o,\"C\",V_i,D,S_L,S_T,N_L)\n",
    "bank2.heat_rate(N_T,N_L,L=1)\n",
    "bank2.temperature_outlet_tube_banks(N_T,N_L)\n",
    "\n",
    "h2 = (bank2.q)/(bank2.T_o-T_i)\n",
    "print(\"The convection coefficient for a single element is %.2f\" %h2)"
   ]
  },
  {
   "cell_type": "markdown",
   "metadata": {},
   "source": [
    "Part 4"
   ]
  },
  {
   "cell_type": "code",
   "execution_count": 6,
   "metadata": {},
   "outputs": [
    {
     "name": "stdout",
     "output_type": "stream",
     "text": [
      "The total heat transfered to the air is q = 6820 W\n",
      "The outlet temperature is 42 C\n",
      "Re=14483, P_L = 2.50\n",
      "Pressure drop is 135.15 Pa\n"
     ]
    }
   ],
   "source": [
    "T_i = 25 #C\n",
    "T_o = 75 #C\n",
    "T_s = 350 #C\n",
    "V_i = 12 #m/s\n",
    "L = 250e-3 #mm\n",
    "D = 12e-3 #mm\n",
    "N_L = 3\n",
    "N_T = 4\n",
    "S_T = S_L = 30e-3 #m\n",
    "\n",
    "bank3 = extconv.BankofTubes('aligned','air',T_i,T_s,T_o,\"C\",V_i,D,S_L,S_T,N_L)\n",
    "bank3.heat_rate(N_T,N_L,L)\n",
    "print(\"The total heat transfered to the air is q = %.0f W\" %(bank3.q))\n",
    "bank3.temperature_outlet_tube_banks(N_T,N_L)\n",
    "print(\"The outlet temperature is %.0f C\" %(bank3.T_o))\n",
    "print(\"Re=%.0f, P_L = %.2f\" %(bank3.Re,bank3.S_T/bank3.D))\n",
    "bank3.pressure_drop(N_L,0.19,1)\n",
    "print(\"Pressure drop is %.2f Pa\" %(bank3.Delta_p))"
   ]
  },
  {
   "cell_type": "markdown",
   "metadata": {},
   "source": [
    "# Problem 3\n",
    "An aluminum transmission line with a diameter of\n",
    "20 mm has an electrical resistance of $R'_\\text{elec}=2.636\\times10^{-4}\\Omega/\\text{m}$\n",
    "and carries a current of 700 A. The line is\n",
    "subjected to frequent and severe cross winds, increasing the probability of contact between adjacent lines,\n",
    "thereby causing sparks and creating a potential ﬁre hazard for nearby vegetation. The remedy is to insulate the\n",
    "line, but with the adverse effect of increasing the conductor operating temperature.\n",
    "<ol>\n",
    "<li> Calculate the conductor temperature when the air temperature is $20^\\circ\\text{C}$ and the cross flow wind velocity is $10\\text{m/s}$</li>\n",
    "<li> Calculate the conductor temperature for the same\n",
    "conditions, but with a $2\\text{mm}$-thick insulation having\n",
    "a thermal conductivity of $0.15\\text{W/(m.K)}$.</li>"
   ]
  },
  {
   "cell_type": "code",
   "execution_count": 7,
   "metadata": {},
   "outputs": [
    {
     "name": "stdout",
     "output_type": "stream",
     "text": [
      "The steady state heat rate from the transmission line is 129.16 W/m\n",
      "The Reynolds number is 12701\n",
      "The Nusselt number is 61.29\n",
      "The cable conductor surface temperature is 46 C\n"
     ]
    }
   ],
   "source": [
    "R = 2.636e-4 #ohm/m\n",
    "D = 20e-3 #mm\n",
    "I = 700 #A\n",
    "T_i = 20 #C\n",
    "T_o = 55 #C\n",
    "V_i = 10 #m/s\n",
    "\n",
    "q = (I*I)*R\n",
    "print(\"The steady state heat rate from the transmission line is %.2f W/m\" %q)\n",
    "\n",
    "#From properties of air\n",
    "airprop = thermo.Fluid(\"air\",300)\n",
    "Re = (V_i*D)/airprop.nu\n",
    "print(\"The Reynolds number is %.0f\" %Re)\n",
    "\n",
    "cable = extconv.CircularCylinder('Churchill-Bernstein',Re,airprop.Pr)\n",
    "print(\"The Nusselt number is %.2f\" %cable.Nu)\n",
    "#?extconv.CircularCylinder\n",
    "h = (cable.Nu*airprop.k)/D\n",
    "\n",
    "T_s = (q/(h*np.pi*D)) + T_i\n",
    "print(\"The cable conductor surface temperature is %.0f C\" %T_s)"
   ]
  },
  {
   "cell_type": "code",
   "execution_count": 8,
   "metadata": {},
   "outputs": [
    {
     "name": "stdout",
     "output_type": "stream",
     "text": [
      "The Reynolds number is 13971\n",
      "The Nusselt number is 64.66\n",
      "The convective heat transfer coefficient is 84.64 W/m2K\n",
      "The total thermal resistance of the cable and insulation is 0.272 K/W\n",
      "The conductor temperature is 35.1 C\n"
     ]
    }
   ],
   "source": [
    "D_o = 22e-3 #mm\n",
    "k_ins = 15e-2 #W/mK\n",
    "\n",
    "Re2 = (V_i*D_o)/airprop.nu\n",
    "print(\"The Reynolds number is %.0f\" %Re2)\n",
    "\n",
    "cable2 = extconv.CircularCylinder('Churchill-Bernstein',Re2,airprop.Pr)\n",
    "print(\"The Nusselt number is %.2f\" %cable2.Nu)\n",
    "\n",
    "h2 = (cable2.Nu*airprop.k)/D\n",
    "print(\"The convective heat transfer coefficient is %.2f W/m2K\" %h2)\n",
    "\n",
    "R_tot = (np.log(D_o/D)/(2*np.pi*k_ins)) + 1/(h2*np.pi*D_o) \n",
    "print(\"The total thermal resistance of the cable and insulation is %.3f K/W\" %R_tot)\n",
    "\n",
    "T_c = q*R_tot\n",
    "print(\"The conductor temperature is %.1f C\" %(T_c))"
   ]
  },
  {
   "cell_type": "markdown",
   "metadata": {},
   "source": [
    "<li>3. Calculate and plot the temperatures of the bare and\n",
    "insulated conductors for wind velocities in the\n",
    "range from $2$ to $20\\text{m/s}$. Comment on features of\n",
    "the curves and the effect of the wind velocity on the\n",
    "conductor temperatures.</li>\n",
    "</ol>"
   ]
  },
  {
   "cell_type": "code",
   "execution_count": 9,
   "metadata": {},
   "outputs": [
    {
     "name": "stdout",
     "output_type": "stream",
     "text": [
      "[80.82478551 52.51424489 44.28643437 39.97152212 37.21332728]\n",
      "[65.6846504  41.11730542 33.98213272 30.24233828 27.85306869]\n"
     ]
    },
    {
     "data": {
      "image/png": "[encoded data removed]",
      "text/plain": [
       "<Figure size 432x288 with 2 Axes>"
      ]
     },
     "metadata": {
      "needs_background": "light"
     },
     "output_type": "display_data"
    }
   ],
   "source": [
    "npts = 5\n",
    "x = np.linspace(2,20,npts)\n",
    "Tb_x = np.zeros_like(x)\n",
    "for i in range(npts):\n",
    "    xlocal = x[i]\n",
    "    Re = (xlocal*D)/airprop.nu\n",
    "    cable = extconv.CircularCylinder('Churchill-Bernstein',Re,airprop.Pr)\n",
    "    h = (cable.Nu*airprop.k)/D\n",
    "    Tb_x[i] = (q/(h*np.pi*D)) + T_i\n",
    "print(Tb_x)\n",
    "\n",
    "npts = 5\n",
    "x = np.linspace(2,20,npts)\n",
    "Ti_x = np.zeros_like(x)\n",
    "for i in range(npts):\n",
    "    xlocal = x[i]\n",
    "    Re2 = (xlocal*D_o)/airprop.nu\n",
    "    cable2 = extconv.CircularCylinder('Churchill-Bernstein',Re2,airprop.Pr)\n",
    "    h2 = (cable2.Nu*airprop.k)/D\n",
    "    R_tot = (np.log(D_o/D)/(2*np.pi*k_ins)) + 1/(h2*np.pi*D_o)\n",
    "    Ti_x[i] = q*R_tot\n",
    "    \n",
    "print(Ti_x)\n",
    "\n",
    "fig, (ax1, ax2) = plt.subplots(2, 1)\n",
    "fig.suptitle('Transmission Cable Temperature vs Wind Velocity')\n",
    "\n",
    "ax1.plot(x, Tb_x, 'o-')\n",
    "ax1.set_ylabel('Bare Cable')\n",
    "\n",
    "ax2.plot(x, Ti_x, '.-')\n",
    "ax2.set_xlabel('Wind Velocity m/s')\n",
    "ax2.set_ylabel('Insulated Cable')\n",
    "\n",
    "plt.show()"
   ]
  },
  {
   "cell_type": "markdown",
   "metadata": {},
   "source": [
    "The effect of wind velocity on the bare cable surface temperature is much greater than the insulated cable. This effect is due to the insulating sheath preventing direct convective heat transfer from the electrical conductor."
   ]
  },
  {
   "cell_type": "markdown",
   "metadata": {},
   "source": [
    "# Problem 4\n",
    "\n",
    "The top surface of a heated compartment consists of very smooth (A) and highly roughened (B) portions, and the surface is placed in an atmospheric airstream. \n",
    "In the interest of minimizing total convection heat transfer from the surface, which orientation, (1) or (2),\n",
    "is preferred? If $T_s=100^\\circ\\text{C}$,  $T_\\infty= 20^\\circ\\text{C}$, and $u_\\infty=20\\text{ m/s}$, what is the convection heat transfer from the entire surface for this orientation?\n",
    "\n",
    "Calculate the value of the average heat transfer coefﬁcient when the entire plate is rotated $90^\\circ$ so that half of the leading edge consists of a very smooth portion (A) and the other half consists of a highly roughened portion (B)."
   ]
  },
  {
   "cell_type": "code",
   "execution_count": 10,
   "metadata": {},
   "outputs": [
    {
     "name": "stdout",
     "output_type": "stream",
     "text": [
      "Warning: The end plate Reynolds number is larger than the critical Reynolds number, consider 'mixed' regime instead\n",
      "Warning: regime is not properly defined\n",
      "24.6373478058797\n",
      "73.91337724739549\n",
      "The total heat transfer from the entire surface of the A-B orientation is 1971.01 W\n"
     ]
    }
   ],
   "source": [
    "T_s = 100. #C\n",
    "T_infty = 20. #C\n",
    "U_infty = 20 #m/s\n",
    "L_A = 5e-1 #m\n",
    "L_B = 5e-1 #m\n",
    "A = 25e-2 #m\n",
    "\n",
    "?extconv.FlatPlate\n",
    "T_f = (T_s-T_infty)/2\n",
    "airprop = thermo.Fluid(\"air\",thermo.C2K(T_f))\n",
    "\n",
    "plateA = extconv.FlatPlate('laminar','isothermal',U_infty,airprop.nu,airprop.alpha,L_A,0.0,5e5)\n",
    "plateA.average(L_A)\n",
    "h_A = (plateA.Nu_ave*airprop.k)/(L_A)\n",
    "\n",
    "plateB = extconv.FlatPlate('turbulent','isothermal',U_infty,airprop.nu,airprop.alpha,0.0,5e5)\n",
    "plateB.average(L_B)\n",
    "h_B = (plateB.Nu_ave*airprop.k)/(L_B)\n",
    "\n",
    "print(h_A)\n",
    "print(h_B)\n",
    "\n",
    "q_tot = h_A*A*(T_s-T_infty) + h_B*A*(T_s-T_infty)\n",
    "\n",
    "print(\"The total heat transfer from the entire surface of the A-B orientation is %.2f W\" %q_tot)"
   ]
  },
  {
   "cell_type": "markdown",
   "metadata": {},
   "source": [
    "Orientation 2 is preferred. When the rough compartment is the leading edge, the formation of the boundary layer causes a greater amount of heat transfer as the turbulence "
   ]
  },
  {
   "cell_type": "code",
   "execution_count": 11,
   "metadata": {},
   "outputs": [
    {
     "name": "stdout",
     "output_type": "stream",
     "text": [
      "The average convective heat transfer coefficient for the 90 degree orientation is 49.28\n"
     ]
    }
   ],
   "source": [
    "h_avg = (h_A+h_B)/2\n",
    "\n",
    "print(\"The average convective heat transfer coefficient for the 90 degree orientation is %.2f\" %h_avg)"
   ]
  }
 ],
 "metadata": {
  "kernelspec": {
   "display_name": "Python 3",
   "language": "python",
   "name": "python3"
  },
  "language_info": {
   "codemirror_mode": {
    "name": "ipython",
    "version": 3
   },
   "file_extension": ".py",
   "mimetype": "text/x-python",
   "name": "python",
   "nbconvert_exporter": "python",
   "pygments_lexer": "ipython3",
   "version": "3.8.5"
  }
 },
 "nbformat": 4,
 "nbformat_minor": 4
}
