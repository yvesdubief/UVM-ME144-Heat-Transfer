{
 "cells": [
  {
   "cell_type": "markdown",
   "id": "0cc46860",
   "metadata": {},
   "source": [
    "# Homework Assignment 2\n",
    "\n",
    "Complete this notebook, export to pdf (`File>Download as> PDF (via LaTeX)`) and submit the pdf to BB"
   ]
  },
  {
   "cell_type": "markdown",
   "id": "85aecba7",
   "metadata": {},
   "source": [
    "## Pb 1: Air thermodynamic properties class\n",
    "\n",
    "The concept of class is central to most libraries. It consists of the definition of an object, which has specific properties, data and function.\n",
    "\n",
    "Zografos et al. (*Compt. Methods Appl. Mech Eng.*, 61:177-187, 1987) proposed polynomials to compute density, dynamic viscosity, thermal conductivity, and specific heat at constant temperature of air at atmospheric pressure as a function of the static temperature $T$ on the Kelvin scale as follows:\n",
    "* Density $\\rho$ in units of $\\mathrm{kg/m^3}$:\n",
    "\n",
    "$$\n",
    "\\rho=\\begin{cases}\n",
    "-2.440\\times10^{-2}T+5.9958\\,, & 100\\,\\mathrm{K}\\leq T<150\\,\\mathrm{K}\\\\\n",
    "345.57(T-2.6884)^{-1}\\,, & 150\\,\\mathrm{K}\\leq T\\leq 3000\\,\\mathrm{K}\n",
    "\\end{cases}\n",
    "$$\n",
    "* Dynamic viscosity $\\mu$ in units of $\\mathrm{N.s/m^2}=\\mathrm{kg/(m.s)}=\\mathrm{Pa.s}$:\n",
    "\n",
    "$$\n",
    "\\mu = 4.1130\\times10^{-6} + 5.0523\\times10^{-8}T - 1.4346\\times10^{-11}T^2+2.5914\\times10^{-15}T^3\n",
    "$$\n",
    "\n",
    "* Thermal conductivity $k$ in units of $\\mathrm{W/(m.K)}$:\n",
    "\n",
    "$$\n",
    "k= -7.488\\times10^{-3} + 1.7082\\times10^{-4}T - 2.3758\\times10^{-10}T^2 + 2.2012\\times10^{-10}T^3 \\\\\n",
    " + 9.4600\\times10^{-14}T^4 + 1.5797\\times10^{-17}T^5\n",
    "$$\n",
    "\n",
    "* Specific heat at constant pressure $c_p$ in unites of $\\mathrm{J/(kg.K)}$:\n",
    "\n",
    "$$\n",
    "c_p=1061.332-0.432819T + 1.02344\\times10^{-3}T^2 - 6.47474\\times10^{-7}T^3 + 1.3864\\times10^{-10}T^4\n",
    "$$\n",
    "\n",
    "Air density $\\rho$ of units $\\mathrm{kg/m^3}$ can be computed from \n",
    "\n",
    "The Prandtl number $Pr$ can be computed as\n",
    "\n",
    "$$\n",
    "Pr=\\frac{\\mu c_p}{k}\n",
    "$$\n",
    "\n",
    "and the thermal conductivity $\\alpha$ of units $\\mathrm{m^2/s}$ as\n",
    "\n",
    "$$\n",
    "\\alpha = \\frac{k}{\\rho c_p}\n",
    "$$\n",
    "\n",
    "Write a class storing all these variables for input temperature (float) and unit used for temperature (string, it can only be \"K\", \"C\", \"F\"). The class should convert the temperature to Kelvin if unit is either \"C\" or \"F\"). The class should give a warning if \n",
    "* the temperature is outside of the range,\n",
    "* the unit is not \"K\", \"C\", \"F\", e.g. \"c\"\n",
    "\n",
    "### Tasks\n",
    "* Complete the manual part of the class (text between \"\"\" xxxx \"\"\"), i.e. write appropriate units. \n",
    "* Complete the class to compute all quantities defined in the manual.\n",
    "* Apply your class to the examples below.\n",
    "* Define units for examples.\n",
    "* Plot density as function of temperature in the range $10^2\\leq T<3000$. Use log-scale for temperature. "
   ]
  },
  {
   "cell_type": "code",
   "execution_count": 1,
   "id": "97650df2",
   "metadata": {},
   "outputs": [],
   "source": [
    "import numpy as np\n",
    "import math\n",
    "import matplotlib.pyplot as plt\n",
    "class Air:\n",
    "    \"\"\"\n",
    "    Returns an object containing the thermodynamic properties of air at atmospheric pressure\n",
    "    Input: \n",
    "            T: temperature (float)\n",
    "            Tunit: unit of temperature (string). Can only be \"K\", \"C\", \"F\"\n",
    "    output:\n",
    "            self.rho: density [kg/m^3]\n",
    "            self.mu: dynamic viscosity [write units here]\n",
    "            self.k: thermal conductivity [write units here]\n",
    "            self.cp: Specific heat at constant pressure [write units here]\n",
    "            self.Pr: Prandtl number\n",
    "            self.nu: kinematic viscosity [write units here]\n",
    "            self.alpha: thermal diffusivity [write units here]\n",
    "    \"\"\"\n",
    "    def __init__(self,T,Tunit):\n",
    "        if Tunit == \"C\":\n",
    "            T += 273.15\n",
    "        elif Tunit == \"F\":\n",
    "            T = (T - 32)*5/9 +273.15\n",
    "        elif Tunit != \"K\":\n",
    "            print(\"Wrong input for unit of temperature\")\n",
    "            print(\"Input should be 'K', 'C', or 'F'\")\n",
    "        self.T = T\n",
    "        self.mu = 4.1130E-6 + 5.0523E-8*T - 1.4346E-11*T**2 + 2.5914E-15*T**3\n",
    "        self.k = -7.488E-3 + 1.7082E-4*T - 2.3758E-7*T**2 + 2.2012E-10*T**3 + 9.4600E-14*T**4 + 1.5797E-17*T**5\n",
    "        self.cp = 1061.3 - 0.43282*T + 1.02344E-3*T**2 - 6.47474E-7*T**3 + 1.3864E-10*T**4\n",
    "        if (T >= 100.) and (T < 150.):\n",
    "            self.rho = -2.44e-2*T+5.9958\n",
    "        elif (T>=150.) and (T <= 3000.):\n",
    "            self.rho = 345/(T-2.6884)\n",
    "        else:\n",
    "            print(\"T is outside of the range 100K to 3000K, T=%.1f K\" %T)\n",
    "            self.rho = np.inf\n",
    "        self.Pr = self.mu*self.cp/self.k\n",
    "        self.nu = self.mu/self.rho\n",
    "        self.alpha = self.k/(self.rho*self.cp)\n"
   ]
  },
  {
   "cell_type": "code",
   "execution_count": 2,
   "id": "0b87cbeb",
   "metadata": {},
   "outputs": [
    {
     "name": "stdout",
     "output_type": "stream",
     "text": [
      "Temperature in K: 144.26\n",
      "Kinematic viscosity: 4.49e-06 [units], Thermal conductivity: 0.0129 [units]\n"
     ]
    }
   ],
   "source": [
    "myair = Air(-200,\"F\")\n",
    "print(\"Temperature in K: %.2f\" %myair.T)\n",
    "print(\"Kinematic viscosity: %.2e [units], Thermal conductivity: %.4f [units]\" %(myair.nu,myair.k))"
   ]
  },
  {
   "cell_type": "code",
   "execution_count": 3,
   "id": "f887dc6c",
   "metadata": {},
   "outputs": [
    {
     "name": "stdout",
     "output_type": "stream",
     "text": [
      "T is outside of the range 100K to 3000K, T=73.1 K\n"
     ]
    }
   ],
   "source": [
    "myair = Air(-200,\"C\")"
   ]
  },
  {
   "cell_type": "code",
   "execution_count": 4,
   "id": "5fdbb9f2",
   "metadata": {},
   "outputs": [
    {
     "name": "stdout",
     "output_type": "stream",
     "text": [
      "Wrong input for unit of temperature\n",
      "Input should be 'K', 'C', or 'F'\n"
     ]
    }
   ],
   "source": [
    "myair = Air(2000,\"k\")"
   ]
  },
  {
   "cell_type": "code",
   "execution_count": 5,
   "id": "8a8c3729",
   "metadata": {},
   "outputs": [
    {
     "name": "stdout",
     "output_type": "stream",
     "text": [
      "Dynamic viscosity: 6.85e-05 [units], Thermal diffusivity: 1.38e-02 [units]\n"
     ]
    }
   ],
   "source": [
    "myair = Air(2000,\"K\")\n",
    "print(\"Dynamic viscosity: %.2e [units], Thermal diffusivity: %.2e [units]\" %(myair.mu,myair.alpha))"
   ]
  },
  {
   "cell_type": "code",
   "execution_count": 19,
   "id": "618ff68d",
   "metadata": {},
   "outputs": [],
   "source": [
    "T = np.logspace(2,np.log10(2999.),1000)\n",
    "rho = np.zeros_like(T)\n",
    "for i in range(T.shape[0]):\n",
    "    myair = Air(T[i],\"K\")\n",
    "    rho[i] = myair.rho"
   ]
  },
  {
   "cell_type": "code",
   "execution_count": 28,
   "id": "d67d9ede",
   "metadata": {},
   "outputs": [
    {
     "data": {
      "image/png": "[encoded data removed]",
      "text/plain": [
       "<Figure size 300x200 with 1 Axes>"
      ]
     },
     "metadata": {},
     "output_type": "display_data"
    }
   ],
   "source": [
    "plt.figure(figsize=(3,2),dpi=100)\n",
    "plt.semilogx(T,rho)\n",
    "plt.xlabel(\"$T\\;(\\mathrm{K})$\")\n",
    "plt.ylabel(r\"$\\rho\\;(\\mathrm{kg/m^3})$\")\n",
    "plt.show()"
   ]
  },
  {
   "cell_type": "code",
   "execution_count": null,
   "id": "5f52931b",
   "metadata": {},
   "outputs": [],
   "source": []
  }
 ],
 "metadata": {
  "kernelspec": {
   "display_name": "Python 3 (ipykernel)",
   "language": "python",
   "name": "python3"
  },
  "language_info": {
   "codemirror_mode": {
    "name": "ipython",
    "version": 3
   },
   "file_extension": ".py",
   "mimetype": "text/x-python",
   "name": "python",
   "nbconvert_exporter": "python",
   "pygments_lexer": "ipython3",
   "version": "3.9.13"
  }
 },
 "nbformat": 4,
 "nbformat_minor": 5
}
