{
 "cells": [
  {
   "cell_type": "markdown",
   "id": "0cc46860",
   "metadata": {},
   "source": [
    "# Homework Assignment 2\n",
    "\n",
    "Complete this notebook, export to pdf (`File>Download as> PDF (via LaTeX)`) and submit the pdf to BB"
   ]
  },
  {
   "cell_type": "markdown",
   "id": "85aecba7",
   "metadata": {},
   "source": [
    "## Pb 1: Air thermodynamic properties class\n",
    "\n",
    "The concept of class is central to most libraries. It consists of the definition of an object, which has specific properties, data and function.\n",
    "\n",
    "Zografos et al. (*Compt. Methods Appl. Mech Eng.*, 61:177-187, 1987) proposed polynomials to compute density, dynamic viscosity, thermal conductivity, and specific heat at constant temperature of air at atmospheric pressure as a function of the static temperature $T$ on the Kelvin scale as follows:\n",
    "* Density $\\rho$ in units of $\\mathrm{kg/m^3}$:\n",
    "\n",
    "$$\n",
    "\\rho=\\begin{cases}\n",
    "-2.440\\times10^{-2}T+5.9958\\,, & 100\\,\\mathrm{K}\\leq T<150\\,\\mathrm{K}\\\\\n",
    "345.57(T-2.6884)^{-1}\\,, & 150\\,\\mathrm{K}\\leq T\\leq 3000\\,\\mathrm{K}\n",
    "\\end{cases}\n",
    "$$\n",
    "* Dynamic viscosity $\\mu$ in units of $\\mathrm{N.s/m^2}=\\mathrm{kg/(m.s)}=\\mathrm{Pa.s}$:\n",
    "\n",
    "$$\n",
    "\\mu = 4.1130\\times10^{-6} + 5.0523\\times10^{-8}T - 1.4346\\times10^{-11}T^2+2.5914\\times10^{-15}T^3\n",
    "$$\n",
    "\n",
    "* Thermal conductivity $k$ in units of $\\mathrm{W/(m.K)}$:\n",
    "\n",
    "$$\n",
    "k= -7.488\\times10^{-3} + 1.7082\\times10^{-4}T - 2.3758\\times10^{-10}T^2 + 2.2012\\times10^{-10}T^3 \\\\\n",
    " + 9.4600\\times10^{-14}T^4 + 1.5797\\times10^{-17}T^5\n",
    "$$\n",
    "\n",
    "* Specific heat at constant pressure $c_p$ in unites of $\\mathrm{J/(kg.K)}$:\n",
    "\n",
    "$$\n",
    "c_p=1061.332-0.432819T + 1.02344\\times10^{-3}T^2 - 6.47474\\times10^{-7}T^3 + 1.3864\\times10^{-10}T^4\n",
    "$$\n",
    "\n",
    "Air density $\\rho$ of units $\\mathrm{kg/m^3}$ can be computed from \n",
    "\n",
    "The Prandtl number $Pr$ can be computed as\n",
    "\n",
    "$$\n",
    "Pr=\\frac{\\mu c_p}{k}\n",
    "$$\n",
    "\n",
    "and the thermal conductivity $\\alpha$ of units $\\mathrm{m^2/s}$ as\n",
    "\n",
    "$$\n",
    "\\alpha = \\frac{k}{\\rho c_p}\n",
    "$$\n",
    "\n",
    "Write a class storing all these variables for input temperature (float) and unit used for temperature (string, it can only be \"K\", \"C\", \"F\"). The class should convert the temperature to Kelvin if unit is either \"C\" or \"F\"). The class should give a warning if \n",
    "* the temperature is outside of the range,\n",
    "* the unit is not \"K\", \"C\", \"F\", e.g. \"c\"\n",
    "\n",
    "### Tasks\n",
    "* Complete the manual part of the class (text between \"\"\" xxxx \"\"\"), i.e. write appropriate units. \n",
    "* Complete the class to compute all quantities defined in the manual.\n",
    "* Apply your class to the examples below.\n",
    "* Define units for examples.\n",
    "* Plot density as function of temperature in the range $10^2\\leq T<3000$. Use log-scale for temperature. Axes must be labeled with their variables and units."
   ]
  },
  {
   "cell_type": "code",
   "execution_count": null,
   "id": "97650df2",
   "metadata": {},
   "outputs": [],
   "source": [
    "import numpy as np\n",
    "import math\n",
    "import matplotlib.pyplot as plt\n",
    "class Air:\n",
    "    \"\"\"\n",
    "    Returns an object containing the thermodynamic properties of air at atmospheric pressure\n",
    "    Input: \n",
    "            T: temperature (float)\n",
    "            Tunit: unit of temperature (string). Can only be \"K\", \"C\", \"F\"\n",
    "    output:\n",
    "            self.rho: density [kg/m^3]\n",
    "            self.mu: dynamic viscosity [write units here]\n",
    "            self.k: thermal conductivity [write units here]\n",
    "            self.cp: Specific heat at constant pressure [write units here]\n",
    "            self.Pr: Prandtl number\n",
    "            self.nu: kinematic viscosity [write units here]\n",
    "            self.alpha: thermal diffusivity [write units here]\n",
    "    \"\"\"\n",
    "    def __init__(self,T,Tunit):\n",
    "        if Tunit == \"C\":\n",
    "            T += 273.15\n",
    "        elif Tunit == \"F\":\n",
    "            T = (T - 32)*5/9 +273.15\n",
    "        elif Tunit != \"K\":\n",
    "            print(\"Wrong input for unit of temperature\")\n",
    "            print(\"Input should be 'K', 'C', or 'F'\")\n",
    "        self.T = T\n",
    "        self.mu = 4.1130E-6 + 5.0523E-8*T - 1.4346E-11*T**2 + 2.5914E-15*T**3\n",
    "        \n"
   ]
  },
  {
   "cell_type": "code",
   "execution_count": null,
   "id": "0b87cbeb",
   "metadata": {},
   "outputs": [],
   "source": [
    "myair = Air(-200,\"F\")\n",
    "print(\"Temperature in K: %.2f\" %myair.T)\n",
    "print(\"Kinematic viscosity: %.2e [units], Thermal conductivity: %.4f [units]\" %(myair.nu,myair.k))"
   ]
  },
  {
   "cell_type": "code",
   "execution_count": null,
   "id": "f887dc6c",
   "metadata": {},
   "outputs": [],
   "source": [
    "myair = Air(-200,\"C\")"
   ]
  },
  {
   "cell_type": "code",
   "execution_count": null,
   "id": "5fdbb9f2",
   "metadata": {},
   "outputs": [],
   "source": [
    "myair = Air(2000,\"k\")"
   ]
  },
  {
   "cell_type": "code",
   "execution_count": null,
   "id": "8a8c3729",
   "metadata": {},
   "outputs": [],
   "source": [
    "myair = Air(2000,\"K\")\n",
    "print(\"Dynamic viscosity: %.2e [units], Thermal diffusivity: %.2e [units]\" %(myair.mu,myair.alpha))"
   ]
  },
  {
   "cell_type": "code",
   "execution_count": null,
   "id": "618ff68d",
   "metadata": {},
   "outputs": [],
   "source": [
    "T = np.logspace(2,np.log10(2999.),1000)\n",
    "rho = np.zeros_like(T)\n",
    "for i in range(T.shape[0]):\n",
    "    # Your code here"
   ]
  },
  {
   "cell_type": "code",
   "execution_count": null,
   "id": "d67d9ede",
   "metadata": {},
   "outputs": [],
   "source": [
    "plt.figure(figsize=(3,2),dpi=100)\n",
    "# your line plot here\n",
    "plt.xlabel(\"$T\\;(\\mathrm{units})$\")\n",
    "plt.ylabel(r\"$\\rho\\;(\\mathrm{units})$\")\n",
    "plt.show()"
   ]
  },
  {
   "cell_type": "markdown",
   "id": "b4054fd7",
   "metadata": {},
   "source": [
    "## Pb 2 Window\n",
    "\n",
    "Set up equations and apply realistic numerical values to them to discuss heat losses of a single pane window, a single pane window with storm window and a double paned window with air trapped at a vacuum of $10^{-3} \\mathrm{torr}$ ina gap of $5\\mathrm{mm}$. Do not consider the effects of radiation for any of the window.\n",
    "\n",
    "<img src=\"https://github.com/yvesdubief/UVM-ME144-Heat-Transfer/blob/master/Figures/HW1-ThermalCondAir.png?raw=true\" alt=\"my awesome sketch\" width=100% >\n",
    "\n",
    "#### Assumptions:\n",
    "* Heat transfer is steady and 1D\n",
    "* Radiation is ignored\n",
    "* Convection in the gap of the storm window is neglected\n",
    "* The temperature on the inside and outside surfaces of any window are isothermal and equal to $T_{si}=10^\\circ\\mathrm{C}$ and $T_{so}=-10^\\circ\\mathrm{C}$, respectively.\n",
    "* For the storm window, and the double pane window, the average temperature in the gap between the two glass pane is assumed to the average of $T_{si}$ and $T_{so}$ or $T_{mean}=0^\\circ\\mathrm{C}$.\n",
    "\n"
   ]
  },
  {
   "cell_type": "markdown",
   "id": "bd483448",
   "metadata": {},
   "source": [
    "#### Setup\n",
    "\n",
    "In this cell you are expected to:\n",
    "* Insert your sketches of the single pane and double pane windows showing heat fluxes, temperatures at boundaries and dimensions\n",
    "* Store in folder `MyFigures`. Change the names `your-single-pane-sketch` and `your-double-pane-sketch` in the HTML command below to include your figures to this cell.\n",
    "* Complete a **worded** write-up of the solutions (for both windows) including equations written in LaTeX\n",
    "\n",
    "<img src=\"MyFigures/your-single-pane-sketch.png\" alt=\"my awesome sketch\" width=30% >\n",
    "<img src=\"MyFigures/your-double-pane-sketch.png\" alt=\"my awesome sketch\" width=30% >\n",
    "\n",
    "*This is the type of introduction of your work that is expected in this class for any deliverable*\n",
    "\n",
    "The goal is to compute the heat loss from a model window under controlled conditions. We choose to fix the inside surface temperature to $10^\\circ\\mathrm{C}$ and the outside surface temperature to $-10^\\circ\\mathrm{C}$ for a window of height and width $h = 1.2\\;\\mathrm{m}$ and $w = 0.7\\;\\mathrm{m}$ with a surface aera $A=h\\times w$. The thickness of a residential window pane is $t_{glass}=3/32\\,\\mathrm{in}$ (https://ringerwindows.com/thick-glass-windows/) with a thermal conductivity $k=0.96\\;\\mathrm{W/m.K}$. The storm window has a $2.5\\,\\mathrm{in}$.\n",
    "\n",
    "The heat rate for a single window pane is...\n",
    "*Your derivation of the solution here*\n"
   ]
  },
  {
   "cell_type": "code",
   "execution_count": null,
   "id": "3a7346e0",
   "metadata": {},
   "outputs": [],
   "source": [
    "import numpy as np\n",
    "from Libraries import thermodynamics as thermo\n",
    "T_si = 10. #C\n",
    "T_so = -10. #C\n",
    "h = 1.2 #m\n",
    "w = 0.7 #m\n",
    "t_glass = 3./32.*0.0254 #m\n",
    "k_glass = 0.96\n",
    "A = h*w\n",
    "t_gap_storm = 2*0.0254 #m\n",
    "# getting thermodynamic properties of air for the storm window\n",
    "air_gap_storm = thermo.Fluid('air',thermo.C2K(0.))\n",
    "t_gap_vacuum = 0.005#m\n",
    "k_vacuum = xxxx #W/m.K (from graph)\n",
    "R_glass = \n",
    "R_gap_storm = \n",
    "R_gap_vacuum = \n",
    "R_total_single = \n",
    "R_total_storm = \n",
    "R_total_double = \n",
    "\n",
    "print(\"Thermal conductivity of air at 0 C: %.4f\" %air_gap_storm.k)\n",
    "print(\"Thermal resistance for the single window: %.4f K/W\" %R_total_single)\n",
    "print(\"Thermal resistance for the storm window: %.4f K/W\" %R_total_storm)\n",
    "print(\"Thermal resistance for the double pane window: %.4f K/W\" %R_total_double)\n",
    "\n",
    "DT = T_si - T_so\n",
    "q_single = DT/R_total_single\n",
    "q_storm = DT/R_total_storm\n",
    "q_double = DT/R_total_double\n",
    "print(\"Single window pane q: %.0f W\" %q_single)\n",
    "print(\"Storm window q: %.0f W\" %q_storm)\n",
    "print(\"Double pane window q: %.0f W\" %q_double)"
   ]
  },
  {
   "cell_type": "code",
   "execution_count": null,
   "id": "7d75b9d4",
   "metadata": {},
   "outputs": [],
   "source": []
  }
 ],
 "metadata": {
  "kernelspec": {
   "display_name": "Python 3 (ipykernel)",
   "language": "python",
   "name": "python3"
  },
  "language_info": {
   "codemirror_mode": {
    "name": "ipython",
    "version": 3
   },
   "file_extension": ".py",
   "mimetype": "text/x-python",
   "name": "python",
   "nbconvert_exporter": "python",
   "pygments_lexer": "ipython3",
   "version": "3.9.13"
  }
 },
 "nbformat": 4,
 "nbformat_minor": 5
}
