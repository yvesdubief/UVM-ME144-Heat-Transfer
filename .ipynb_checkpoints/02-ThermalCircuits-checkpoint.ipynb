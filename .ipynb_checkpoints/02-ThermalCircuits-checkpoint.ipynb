{
 "cells": [
  {
   "cell_type": "code",
   "execution_count": null,
   "metadata": {},
   "outputs": [],
   "source": [
    "import schemdraw as schem\n",
    "import schemdraw.elements as e\n",
    "\n",
    "import matplotlib.pyplot as plt\n",
    "import numpy as np\n",
    "import math\n",
    "import scipy.constants as sc\n",
    "from Libraries import HT_thermal_resistance as res\n",
    "\n",
    "R = []\n",
    "\n",
    "R.append(res.Resistance(name=\"$R_{conv,i}$\", units=\"W/m\"))\n",
    "R.append(res.Resistance(name=\"$R_{cond}$\", units=\"W/m\"))\n",
    "R.append(res.Resistance(name=\"$R_{conv,o}$\", units=\"W/m\"))\n",
    "R.append(res.Resistance(name=\"$R_{rad}$\", units=\"W/m\"))"
   ]
  },
  {
   "cell_type": "code",
   "execution_count": null,
   "metadata": {},
   "outputs": [],
   "source": [
    "d = schem.Drawing()\n",
    "d.add(e.DOT, label = r\"$T_m$\")\n",
    "d.add(e.RES, d = 'right', label = R[0].name)\n",
    "d.add(e.DOT, label = r\"$T_{s,i}$\")\n",
    "R1 = d.add(e.RES, d = 'right', label = R[1].name)\n",
    "d.add(e.DOT, label = r\"$T_{s,o}$\")\n",
    "d.add(e.RES, d='right', label = R[2].name)\n",
    "d.add(e.DOT, label=\"$T_\\infty$\")\n",
    "L1 = d.add(e.ARROW, toplabel = \"$q'$\", endpts = [[-2.25, 0], [-0.25, 0]])\n",
    "# d += e.CurrentLabel().at(R1)\n",
    "d.draw()"
   ]
  },
  {
   "cell_type": "code",
   "execution_count": null,
   "metadata": {},
   "outputs": [],
   "source": [
    "d = schem.Drawing()\n",
    "d.add(e.DOT, label = r\"$T_m$\")\n",
    "d.add(e.RES, d = 'right', label = R[0].name)\n",
    "d.add(e.DOT, label = r\"$T_{s,i}$\")\n",
    "R1 = d.add(e.RES, d = 'right', label = R[1].name)\n",
    "d.add(e.DOT, rgtlabel = r\"$T_{s,o}$\")\n",
    "d.push()\n",
    "d.add(e.LINE, d= 'up', l = 1.5)\n",
    "d.add(e.RES, d='right', label = R[2].name)\n",
    "d.add(e.LINE, d='down', l = 1.5)\n",
    "d.pop()\n",
    "d.add(e.LINE, d='down', l = 1.5)\n",
    "d.add(e.RES, d='right', botlabel = R[3].name)\n",
    "d.add(e.LINE, d= 'up', l = 1.5)\n",
    "d.add(e.LINE,d='right',l=1.5)\n",
    "d.add(e.DOT, botlabel=\"$T_\\infty$\")\n",
    "\n",
    "L1 = d.add(e.ARROW, toplabel = \"$q'$\", endpts = [[-2.25, 0], [-0.25, 0]])\n",
    "\n",
    "d.draw()"
   ]
  },
  {
   "cell_type": "markdown",
   "metadata": {},
   "source": [
    "$$\n",
    "R_{eq,atm}= \\left(\\frac{1}{R_{rad}}+\\frac{1}{R_{conv,o}}\\right)^{-1}\n",
    "$$"
   ]
  },
  {
   "cell_type": "code",
   "execution_count": null,
   "metadata": {},
   "outputs": [],
   "source": [
    "d = schem.Drawing()\n",
    "d.add(e.DOT, label = r\"$T_m$\")\n",
    "d.add(e.RES, d = 'right', label = R[0].name)\n",
    "d.add(e.DOT, label = r\"$T_{s,i}$\")\n",
    "R1 = d.add(e.RES, d = 'right', label = R[1].name)\n",
    "d.add(e.DOT, label = r\"$T_{s,o}$\")\n",
    "d.add(e.RES, d='right', label = r\"$R_{eq,atm}$\")\n",
    "\n",
    "d.add(e.DOT, botlabel=\"$T_\\infty$\")\n",
    "\n",
    "L1 = d.add(e.ARROW, toplabel = \"$q'$\", endpts = [[-2.25, 0], [-0.25, 0]])\n",
    "\n",
    "d.draw()"
   ]
  },
  {
   "cell_type": "code",
   "execution_count": null,
   "metadata": {},
   "outputs": [],
   "source": []
  }
 ],
 "metadata": {
  "kernelspec": {
   "display_name": "Python 3 (ipykernel)",
   "language": "python",
   "name": "python3"
  },
  "language_info": {
   "codemirror_mode": {
    "name": "ipython",
    "version": 3
   },
   "file_extension": ".py",
   "mimetype": "text/x-python",
   "name": "python",
   "nbconvert_exporter": "python",
   "pygments_lexer": "ipython3",
   "version": "3.10.9"
  }
 },
 "nbformat": 4,
 "nbformat_minor": 2
}
