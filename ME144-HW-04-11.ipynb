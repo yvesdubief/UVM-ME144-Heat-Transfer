{
 "cells": [
  {
   "cell_type": "markdown",
   "id": "cbbb79f1",
   "metadata": {},
   "source": [
    "# Homework Assignment due \n",
    "\n",
    "## Problem 1\n",
    "A thermos bottle has an inner diameter of $7\\;\\mathrm{mm}$ is $10\\;\\mathrm{cm}$ tall. The wall is composed of a sealed air chamber of thickness $1\\;\\mathrm{mm}$ sandwiched between two thin cylinders of stainless steal, $k_{stst}=15\\;\\mathrm{W/(m.K)}$, of thickness $2\\;\\mathrm{mm}$. The goal is to hold tea as close as possible to its ideal temperature of $80\\,^\\circ\\mathrm{C}$ for an hour in some of the weather we have had recently. For an ambient air at $T_\\infty=-20\\,^\\circ\\mathrm{C}$ and a wind of $10\\;\\mathrm{m/s}$, the convection coefficient around the bottle is $h = 28.7\\times10^3\\;\\mathrm{W/(m^2.K)}$. The radiation heat transfer is assumed to be negligible. All heat transfer calculations are assumed to be 1D.\n",
    "\n",
    "* 1.) Calculate the heat rate of the system if the air chamber is at atmospheric pressure  $k_{air}=0.022\\;\\mathrm{W/(m.K)}$\n",
    "* 2.) Typical thermos bottles are designed with the air chamber vacuumed at about $10^{-3}\\;\\mathrm{torr}$ resulting in a thermal conductivity of $3\\times10^{-3}\\;\\mathrm{W/m.K}$. Calculate the new heat rate.\n",
    "* 3.) Describe briefly the microscopic phenomenon that causes vacuum air to reduce so significantly the heat rate.\n",
    "* 4.) Assuming that there is no heat loss from the bottom or the lid, give an estimate of the temperature loss of the tea per second in the vacuumed and non-vacuumed scenario. To do this you only need to apply the guiding principle of heat transfer (see equation sheet) and  remember that thermal energy is $\\rho C_p T$, where the tea density is $1000\\;\\mathrm{kg/m^3}$ and $C_p= 4198.\\;\\mathrm{J/(kg.K)}$\n",
    "* 5.) Compute the heat loss from a lid made of $3 \\;\\mathrm{mm}$ of plastic with a conductivity of $5\\;\\mathrm{W/(m.K)}$. What is your conclusion regarding the ability of this thermos to hold your tea warm? If you can assume that heat loss rate is constant, how long would it take for your tea to be cold (decide what is cold based on your preference)?"
   ]
  },
  {
   "cell_type": "code",
   "execution_count": 1,
   "id": "843a3ff4",
   "metadata": {},
   "outputs": [],
   "source": [
    "import numpy as np\n",
    "import matplotlib.pyplot as plt\n",
    "from Libraries import thermodynamics as thermo\n",
    "from Libraries import HT_thermal_resistance as res\n",
    "im"
   ]
  },
  {
   "cell_type": "code",
   "execution_count": 3,
   "id": "14e6fddf",
   "metadata": {},
   "outputs": [],
   "source": [
    "L = 0.1 #m Height\n",
    "ri = 0.07 #m Inside radius\n",
    "t_sts = 0.002 #m Stainless steal wall thickness\n",
    "k_sts = 15 #W/m.K thermal conductivity of stainless steal wall\n",
    "t_gap = 0.001 #m \n",
    "k_gap_atm = 2.2e-2 #W/m.K air chamber without vacuum\n",
    "k_gap_vac = 3.0e-3 #W/m.K air chamber with vacuum\n",
    "h = 28000 #W/m^2.K convection coefficient\n",
    "T_i = 80 #C\n",
    "T_inf = -20 #C\n",
    "\n",
    "r1 = ri + t_sts\n",
    "r2 = r1 + t_gap\n",
    "ro = r2 + t_sts\n",
    "\n",
    "A_o = 2*np.pi*ro**2*L\n",
    "\n",
    "R = []\n",
    "# Conduction through Inner wall\n",
    "R.append(res.Resistance(\"$R_{cond,w1}$\", \"W\"))\n",
    "# Conduction through air gap \n",
    "R.append(res.Resistance(\"$R_{cond,a}$\", \"W\"))\n",
    "# Conduction through outer wall\n",
    "R.append(res.Resistance(\"$R_{cond,w2}$\", \"W\"))\n",
    "# Conduction through convection\n",
    "R.append(res.Resistance(\"$R_{conv}$\", \"W\"))\n",
    "\n"
   ]
  },
  {
   "cell_type": "markdown",
   "id": "0bcaacce",
   "metadata": {},
   "source": []
  },
  {
   "cell_type": "code",
   "execution_count": 4,
   "id": "6c2e5bdf",
   "metadata": {},
   "outputs": [],
   "source": [
    "\n",
    "R[0].cond_cylinder(k_sts,ra=ri,rb=r1,L=L)\n",
    "R[1].cond_cylinder(k_gap_atm,ra=r1,rb=r2,L=L)\n",
    "R[2].cond_cylinder(k_sts,ra=r2,rb=ro,L=L)\n",
    "R[3].convection(h,A=A_o)\n"
   ]
  },
  {
   "cell_type": "code",
   "execution_count": 5,
   "id": "c21e9015",
   "metadata": {},
   "outputs": [],
   "source": [
    "R_tot_atm = res.serial_sum(R,0,3)"
   ]
  },
  {
   "cell_type": "code",
   "execution_count": 9,
   "id": "f999a92d",
   "metadata": {},
   "outputs": [],
   "source": [
    "R[1].cond_cylinder(k_gap_vac,ra=r1,rb=r2,L=L)\n",
    "R_tot_vac = res.serial_sum(R,0,3)"
   ]
  },
  {
   "cell_type": "code",
   "execution_count": 10,
   "id": "0083d356",
   "metadata": {},
   "outputs": [
    {
     "data": {
      "text/latex": [
       "$\\displaystyle 7.33366778491278$"
      ],
      "text/plain": [
       "7.333667784912777"
      ]
     },
     "execution_count": 10,
     "metadata": {},
     "output_type": "execute_result"
    }
   ],
   "source": [
    "R_tot_vac"
   ]
  },
  {
   "cell_type": "code",
   "execution_count": 12,
   "id": "05887af4",
   "metadata": {},
   "outputs": [],
   "source": [
    "q_atm = 1/R_tot_atm*(T_i - T_inf)\n",
    "q_vac = 1/R_tot_vac*(T_i - T_inf)"
   ]
  },
  {
   "cell_type": "code",
   "execution_count": 14,
   "id": "316786a1",
   "metadata": {},
   "outputs": [
    {
     "data": {
      "text/latex": [
       "$\\displaystyle 13.635741750632$"
      ],
      "text/plain": [
       "13.635741750631993"
      ]
     },
     "execution_count": 14,
     "metadata": {},
     "output_type": "execute_result"
    }
   ],
   "source": [
    "q_vac"
   ]
  },
  {
   "cell_type": "code",
   "execution_count": null,
   "id": "083deacc",
   "metadata": {},
   "outputs": [],
   "source": [
    "print(\"Without vacuum, the heat rate is \")"
   ]
  },
  {
   "cell_type": "markdown",
   "id": "d5fb74e9",
   "metadata": {},
   "source": [
    "## Problem 2\n",
    "\n",
    "The key to a happy skier is to maintain the surface temperature of your skin larger than $20^\\circ\\mathrm{C}$. The objective is to determine the heat flux generated by a thin electrical heater (resistance) inserted on the top of the liner, i.e. between the liner and the sock. All calculations will assume 1D planar heat transfer and to be performed per unit surface area. The study is also limited to the heat transfer from the top of the foot only. The body is assumed to be at constant temperature $36^\\circ\\mathrm{C}$, or $309^\\circ\\mathrm{K}$, which is the inner boundary condition for a skin/fat layer of thickness $3\\;\\mathrm{mm}$ and $k_{skin}=3\\times10^{-1}\\;\\mathrm{W/(m.K)}$. The skin is covered by a sock of thickness $2.5\\;\\mathrm{mm}$ and $k_{sock}=7.5\\;\\mathrm{W/(m.K)}$. The liner of the boot is made of polymer fibers, thickness $5\\;\\mathrm{mm}$ and $k_\\text{liner}=6\\;\\mathrm{W/(m.K)}$ and the shell is carbon fiber, thickness $3\\;\\mathrm{mm}$ and $k_\\text{shell}=10\\;\\mathrm{W/(m.K)}$ with emissivity $\\varepsilon=0.9$. The air is at $T_\\infty= -20^\\circ\\mathrm{C}=253^\\circ\\mathrm{C}$ and the convection coefficient is $h=50\\;\\mathrm{W/(m^2.K)}$\n",
    "* 1.) Calculate the heat rate without the heating resistance. For radiation you will use  the radiation coefficient heat transfer $h_r=\\varepsilon\\sigma(T_s+T_\\infty)(T_s^2+T_\\infty^2)$, where $\\sigma = 5.67\\times10^{-8}\\;\\mathrm{W/(m^2.K^4)}$ and $T_s$ is the boot surface temperature (outside surface). Take a guess for $T_s$ (between $T_0$ and $T_\\infty$), calculate the total flux. From the total flux, calculate $T_s$ and iterate once more.  What is the skin surface temperature?\n",
    "* 2.) Modify your thermal circuit to include the thin heater between the sock and the liner and write the conservation of energy in terms of heat fluxes\n",
    "* 3.) What heat flux must the heating resistance generate to maintain the skin temperature at $25^\\circ\\mathrm{C}$ under the present conditions?\n",
    "* 4.) Calculate the boot outer surface temperature $T_s$.\n",
    "* 5.) Without any additional calculation, what is the most preferable material for a sock: wool, $k_\\text{wool}=7.5\\;\\mathrm{W/(m.K)}$, or cotton, $k_\\text{cotton}=17.5\\;\\mathrm{W/(m.K)}$?\n",
    "\n"
   ]
  },
  {
   "cell_type": "code",
   "execution_count": null,
   "id": "ff142774",
   "metadata": {},
   "outputs": [],
   "source": []
  },
  {
   "cell_type": "markdown",
   "id": "e100ec1d",
   "metadata": {},
   "source": [
    "## Problem 3\n",
    "\n",
    "To defog the rear window of an automobile, a very thin transparent heating element is attached to the inner surface of the window. A uniform flux $q''_{h}$ is provided to the heating element to maintain the inner surface of the window at a desired temperature $T_{s,i}$ . The window's thickness is $t=5mm$ and the thermal conductivity is $k=1.2\\;\\mathrm{W/m.K}$ . The interior temperature of the automobile is $T_{\\infty,i}=22^\\circ\\mathrm{C}$ and the convection coefficient is $h_i=15\\;\\mathrm{W/m^2.K}$ The outside ambient temperature is $t_{\\infty,o}=-5^\\circ C$ and the convection heat transfer is $h_o=100\\;\\mathrm{W/m^2.K}$. \n",
    "\n",
    "* 1.) Define your assumptions.\n",
    "* 2.) Sketch the thermal circuit of the system.\n",
    "* 3.) Write all equations necessary to solve this problem.\n",
    "* 4.) Determine the heat flux for $T_{s,i}=15^\\circ\\mathrm{C}$.\n",
    "\n",
    "The rear window is now tinted with an emissivity $\\varepsilon=0.8$. Radiation is assumed to take place only from the outer surface of the window to the outside. The sky temperature for radiation is $T_{sur}=T_{sky} = 5^\\circ\\mathrm{C}$ and the desired inner surface temperature is still $T_{s,i}=15^\\circ\\mathrm{C}$. \n",
    "* 5.) Sketch the new thermal circuit.\n",
    "* 6.) Write all equations necessary to solve this problem.\n",
    "* 7.) Determine the necessary heater heat flux to maintain. $T_{s,i}=15^\\circ\\mathrm{C}$"
   ]
  },
  {
   "cell_type": "code",
   "execution_count": null,
   "id": "cc5423a1",
   "metadata": {},
   "outputs": [],
   "source": []
  },
  {
   "cell_type": "markdown",
   "id": "95aade5f",
   "metadata": {},
   "source": [
    "## Problem 4\n",
    "\n",
    "<img src=\"DataFigures/pipe.png\" width=\"300\" height=\"200\">\n",
    "A fluid at uniform temperature $T_i = 500^\\circ\\mathrm{K}$ is contained in an insulation blanket comprised of two semi-cylindrical shells of different materials. The outside ambient conditions are $T_\\infty = 300^\\circ\\mathrm{K}$ and $h = 25\\;\\mathrm{W/m^2.K}$. The thermal conductivities of the two materials are $k_A = 2\\;\\mathrm{W/m.K}$ and $k_B = 0.25\\;\\mathrm{W/m.K}$, respectively. The inner and outer diameters are $r_1 = 50\\;\\mathrm{mm}$ and $r_2 = 100\\;\\mathrm{mm}$.\n",
    "\n",
    "<img src=\"DataFigures/ABC.png\" width=\"600\" height=\"200\">\n",
    "\n",
    "Assuming that the source of heating for the inside fluid stops suddenly. What is the initial rate of temperature change for a fluid of density $\\rho = 1000\\;\\mathrm{kg/m^3}$ and $C_p = 4000\\;\\mathrm{J/kg.K}$? If you have enough time left, show that the heat loss is $1040\\;\\mathrm{W/m}$.\n",
    "\n",
    "* 1.) Draw the thermal circuit.\n",
    "* 2.) Assuming that the source of heating for the inside fluid stops suddenly and the fluid temperature is spatially uniform (but varies in time). Derive the equation governing the rate of temperature change in the fluid ($dT/dt$)?\n",
    "* 3.) What is the initial rate of temperature change?\n",
    "* 4.) Bonus: Plot the evolution of temperature over time"
   ]
  },
  {
   "cell_type": "code",
   "execution_count": null,
   "id": "458e6b3c",
   "metadata": {},
   "outputs": [],
   "source": []
  }
 ],
 "metadata": {
  "kernelspec": {
   "display_name": "Python 3 (ipykernel)",
   "language": "python",
   "name": "python3"
  },
  "language_info": {
   "codemirror_mode": {
    "name": "ipython",
    "version": 3
   },
   "file_extension": ".py",
   "mimetype": "text/x-python",
   "name": "python",
   "nbconvert_exporter": "python",
   "pygments_lexer": "ipython3",
   "version": "3.10.10"
  }
 },
 "nbformat": 4,
 "nbformat_minor": 5
}
