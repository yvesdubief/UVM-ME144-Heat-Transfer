{
 "cells": [
  {
   "cell_type": "raw",
   "metadata": {},
   "source": [
    "Text provided under a Creative Commons Attribution license, CC-BY. All code is made available under the FSF-approved MIT license. (c) Yves Dubief, 2019."
   ]
  },
  {
   "cell_type": "markdown",
   "metadata": {},
   "source": [
    "# Crash Course in Python\n",
    "\n",
    "Python is an interpreted language, unlike fortran and C, which must be compiled. Once you launch this notebook, your commands are directly executed:"
   ]
  },
  {
   "cell_type": "code",
   "execution_count": null,
   "metadata": {},
   "outputs": [],
   "source": [
    "21 / 3"
   ]
  },
  {
   "cell_type": "markdown",
   "metadata": {},
   "source": [
    "Python is more than glorified calculator. An impressive and ever expanding list of libraries, called <b>modules</b> will allow you to perform scientific computations, data processing and analysis, simulations, plotting and so much more.\n",
    "\n",
    "The objective of this notebook is to give you the basis of python necessary to many courses in ME."
   ]
  },
  {
   "cell_type": "markdown",
   "metadata": {},
   "source": [
    "## Assignment of variables\n",
    "\n",
    "A variable automatically adopts the format of its assignment:"
   ]
  },
  {
   "cell_type": "code",
   "execution_count": null,
   "metadata": {},
   "outputs": [],
   "source": [
    "x = 5\n",
    "print('The value of x is ',x,'and its type is',type(x))\n",
    "x = 5.0\n",
    "print('The value of x is ',x,'and its type is',type(x))\n",
    "x = 'five'\n",
    "print('The value of x is ',x,'and its type is',type(x))\n",
    "x = (5 > 4)\n",
    "print('The value of x is ',x,'and its type is',type(x))"
   ]
  },
  {
   "cell_type": "markdown",
   "metadata": {},
   "source": [
    "Note the result of the last variable assignment.\n",
    "\n",
    "The above code introduces the function type which returns the format of the variable passed to type as argument. Here are the different format of python (note how comments are written into the code)."
   ]
  },
  {
   "cell_type": "code",
   "execution_count": null,
   "metadata": {},
   "outputs": [],
   "source": [
    "\"\"\" integer \"\"\"\n",
    "x = -100\n",
    "print('The value of x is ',x,'and its type is',type(x))\n",
    "# float\n",
    "x = -100.\n",
    "print('The value of x is ',x,'and its type is',type(x))\n",
    "# complex\n",
    "x = 1.0+2.0j\n",
    "print('The value of x is ',x,'and its type is',type(x))\n",
    "\"\"\"\n",
    "string\n",
    "\"\"\"\n",
    "x = 'Mechanical Engineering is everywhere'\n",
    "print('The value of x is ',x,'and its type is',type(x))\n",
    "\n",
    "#boolean\n",
    "x = True\n",
    "print('The value of x is ',x,'and its type is',type(x))\n",
    "x = False\n",
    "print('The value of x is ',x,'and its type is',type(x))"
   ]
  },
  {
   "cell_type": "markdown",
   "metadata": {},
   "source": [
    "## Boolean\n",
    "Most algorithms rely on logical decisions (e.g. if temperature crosses a given threshold, shut everything down). We will revisit the if statement and other applications of boolean variables and operations later. For now, here are few simple examples:"
   ]
  },
  {
   "cell_type": "code",
   "execution_count": null,
   "metadata": {},
   "outputs": [],
   "source": [
    "4 > 2"
   ]
  },
  {
   "cell_type": "code",
   "execution_count": null,
   "metadata": {},
   "outputs": [],
   "source": [
    "2 < 4"
   ]
  },
  {
   "cell_type": "code",
   "execution_count": null,
   "metadata": {},
   "outputs": [],
   "source": [
    "2 == 4"
   ]
  },
  {
   "cell_type": "code",
   "execution_count": null,
   "metadata": {},
   "outputs": [],
   "source": [
    "4 != 2"
   ]
  },
  {
   "cell_type": "code",
   "execution_count": null,
   "metadata": {},
   "outputs": [],
   "source": [
    "not 4 == 2"
   ]
  },
  {
   "cell_type": "code",
   "execution_count": null,
   "metadata": {},
   "outputs": [],
   "source": [
    "'everywhere' in \"Mechanical Engineering is everywhere\""
   ]
  },
  {
   "cell_type": "code",
   "execution_count": null,
   "metadata": {},
   "outputs": [],
   "source": [
    "'nowhere' in \"Mechanical Engineering is everywhere\""
   ]
  },
  {
   "cell_type": "markdown",
   "metadata": {},
   "source": [
    "Note that for string you can use single or double quotes. Use double when your string must display single quotes or vice versa:"
   ]
  },
  {
   "cell_type": "code",
   "execution_count": null,
   "metadata": {},
   "outputs": [],
   "source": [
    "x = \"q'(x)\"\n",
    "print(x)\n"
   ]
  },
  {
   "cell_type": "code",
   "execution_count": null,
   "metadata": {},
   "outputs": [],
   "source": [
    "x = 'q'(x)'\n",
    "print(x)"
   ]
  },
  {
   "cell_type": "markdown",
   "metadata": {},
   "source": [
    "This is a typical coding mistake: creating a code that requires <b>subjectivity</b>. Python does not know if the string is q, (x) or q'(x). In fact it considers the 3rd ' as the beginning of string that is not closed, hence the EOL error message (EOL: End of Line)"
   ]
  },
  {
   "cell_type": "code",
   "execution_count": null,
   "metadata": {},
   "outputs": [],
   "source": [
    "x = 'q\"(x)'\n",
    "print(x)"
   ]
  },
  {
   "cell_type": "markdown",
   "metadata": {},
   "source": [
    "## Importing modules\n",
    "In python you can load only the modules that you need, therefore keeping the memory footprint of python to a minimum. The action of loading a module is achieved by the command <b>import</b>. The following modules are the most needed when solving a mechanical engineering or big data problem.\n",
    "\n",
    "For example, let's try to compute the log base 10 of 100:"
   ]
  },
  {
   "cell_type": "code",
   "execution_count": null,
   "metadata": {},
   "outputs": [],
   "source": [
    "log10(100)"
   ]
  },
  {
   "cell_type": "markdown",
   "metadata": {},
   "source": [
    "Python does not know what the function log10 is. But if you  import all the functions in math, the command works:"
   ]
  },
  {
   "cell_type": "code",
   "execution_count": null,
   "metadata": {},
   "outputs": [],
   "source": [
    "from math import *\n",
    "log10(100)"
   ]
  },
  {
   "cell_type": "markdown",
   "metadata": {},
   "source": [
    "This practice is not recommended unless you really know what you are doing. Rather you want to give your modules a distinctive (short) name or acronym."
   ]
  },
  {
   "cell_type": "code",
   "execution_count": null,
   "metadata": {},
   "outputs": [],
   "source": [
    "import math as ma\n",
    "ma.log10(100)"
   ]
  },
  {
   "cell_type": "markdown",
   "metadata": {},
   "source": [
    "The importance of this recommended practice stems from the overlap of functions in different modules. For example the linear algebra module is <b>numpy</b>, which also contains the function log10."
   ]
  },
  {
   "cell_type": "code",
   "execution_count": null,
   "metadata": {},
   "outputs": [],
   "source": [
    "import numpy as np\n",
    "np.log10(100)"
   ]
  },
  {
   "cell_type": "markdown",
   "metadata": {},
   "source": [
    "So what is the difference between log10 from the two modules? Let's create a 1D array (a vector) and apply log10 to all components of the vector "
   ]
  },
  {
   "cell_type": "code",
   "execution_count": null,
   "metadata": {},
   "outputs": [],
   "source": [
    "vec = [1, 10, 100, 1000]"
   ]
  },
  {
   "cell_type": "code",
   "execution_count": null,
   "metadata": {},
   "outputs": [],
   "source": [
    "ma.log10(vec)"
   ]
  },
  {
   "cell_type": "code",
   "execution_count": null,
   "metadata": {},
   "outputs": [],
   "source": [
    "np.log10(vec)"
   ]
  },
  {
   "cell_type": "markdown",
   "metadata": {},
   "source": [
    "The math log10 rejected the command because it can only treat a single number, where numpy log10 is designed to treat array of any dimension $n\\geq 0$."
   ]
  },
  {
   "cell_type": "markdown",
   "metadata": {},
   "source": [
    "Other commonly used libraries are <b>matplotlib</b>, <b>scipy</b> and <b>pandas</b>. You will discover them a little later."
   ]
  },
  {
   "cell_type": "markdown",
   "metadata": {},
   "source": [
    "## Linear Algebra\n",
    "Most problems in mechanical engineering involve vectors and matrices, therefore the module numpy. An array is initialized as follows:"
   ]
  },
  {
   "cell_type": "code",
   "execution_count": null,
   "metadata": {},
   "outputs": [],
   "source": [
    "x = np.zeros(3,dtype='complex')\n",
    "print(x)"
   ]
  },
  {
   "cell_type": "code",
   "execution_count": null,
   "metadata": {},
   "outputs": [],
   "source": [
    "x = np.ones((2,3),dtype='int')\n",
    "print(x)"
   ]
  },
  {
   "cell_type": "code",
   "execution_count": null,
   "metadata": {},
   "outputs": [],
   "source": [
    "x = np.eye(3,dtype='float')\n",
    "print(x)"
   ]
  },
  {
   "cell_type": "code",
   "execution_count": null,
   "metadata": {},
   "outputs": [],
   "source": [
    "x = np.array([1, 2., 3, 4])\n",
    "print(x)"
   ]
  },
  {
   "cell_type": "code",
   "execution_count": null,
   "metadata": {},
   "outputs": [],
   "source": [
    "x = np.array([[1,2,3],[4,5,6],[7,8,9],[10,11,12]])\n",
    "print(x)"
   ]
  },
  {
   "cell_type": "markdown",
   "metadata": {},
   "source": [
    "Note that the presence of one float in a vector of otherwise integer transforms all components to float.\n",
    "\n",
    "Of critical importance: all arrays start with index 0."
   ]
  },
  {
   "cell_type": "markdown",
   "metadata": {},
   "source": [
    "## Indexing\n",
    "To access a specific value of an array or a subset of component, Python defines the first component of any direction as 0 and offers convenient and powerful indexing rules"
   ]
  },
  {
   "cell_type": "code",
   "execution_count": null,
   "metadata": {},
   "outputs": [],
   "source": [
    "print(x[0,0],x[3,2])"
   ]
  },
  {
   "cell_type": "code",
   "execution_count": null,
   "metadata": {},
   "outputs": [],
   "source": [
    "print(x[0][1])"
   ]
  },
  {
   "cell_type": "markdown",
   "metadata": {},
   "source": [
    "The two definitions are identical.\n",
    "\n",
    "So remember, the first component is 0. The last is denoted by -1. Why? In a vector of dimension N, since the first component is 0 the last is N-1, thus noted -1."
   ]
  },
  {
   "cell_type": "code",
   "execution_count": null,
   "metadata": {},
   "outputs": [],
   "source": [
    "print(x[-1,-1])\n",
    "nx = len(x[:,0])\n",
    "ny = len(x[0,:])\n",
    "print(nx,ny)"
   ]
  },
  {
   "cell_type": "code",
   "execution_count": null,
   "metadata": {},
   "outputs": [],
   "source": [
    "print(x[nx-1,ny-1])"
   ]
  },
  {
   "cell_type": "code",
   "execution_count": null,
   "metadata": {},
   "outputs": [],
   "source": [
    "print(x[:,-1])"
   ]
  },
  {
   "cell_type": "code",
   "execution_count": null,
   "metadata": {},
   "outputs": [],
   "source": [
    "print(x[-2,:])"
   ]
  },
  {
   "cell_type": "code",
   "execution_count": null,
   "metadata": {},
   "outputs": [],
   "source": [
    "print(x[0:2,0])"
   ]
  },
  {
   "cell_type": "code",
   "execution_count": null,
   "metadata": {},
   "outputs": [],
   "source": [
    "someMEfields = ['aeronautics', 'aerospace', 'automotive',\n",
    "                'automation', 'robotics', 'materials science',\n",
    "               'HVAC', 'thermo-fluids']\n",
    "print(someMEfields[-3])"
   ]
  },
  {
   "cell_type": "markdown",
   "metadata": {},
   "source": [
    "## Loops\n",
    "The for loop is versatile. In the form that is universal to all scientific languages, i.e. iteration over a range of integers, python uses the function range, yet pay attention of how the function <b>range</b> works."
   ]
  },
  {
   "cell_type": "code",
   "execution_count": null,
   "metadata": {},
   "outputs": [],
   "source": [
    "for i in range(4):\n",
    "    print(i)"
   ]
  },
  {
   "cell_type": "code",
   "execution_count": null,
   "metadata": {},
   "outputs": [],
   "source": [
    "for i in range(2,5):\n",
    "    print(i)"
   ]
  },
  {
   "cell_type": "markdown",
   "metadata": {},
   "source": [
    "The for loop can also iterate over the elements of an array."
   ]
  },
  {
   "cell_type": "code",
   "execution_count": null,
   "metadata": {},
   "outputs": [],
   "source": [
    "someMEfields = ['aeronautics', 'aerospace', 'automotive',\n",
    "                'automation', 'robotics', 'materials science',\n",
    "               'HVAC', 'thermo-fluids']\n",
    "for field in someMEfields:\n",
    "    print(field)"
   ]
  },
  {
   "cell_type": "markdown",
   "metadata": {},
   "source": [
    "## One issue with arrays\n",
    "\n",
    "In python, b = a links arrays a and b. If b is modified, a is modified and vice versa. To avoid this issue, you need to use the numpy function copy:"
   ]
  },
  {
   "cell_type": "code",
   "execution_count": null,
   "metadata": {},
   "outputs": [],
   "source": [
    "a = np.array(range(10))\n",
    "print(a)"
   ]
  },
  {
   "cell_type": "code",
   "execution_count": null,
   "metadata": {},
   "outputs": [],
   "source": [
    "b = a\n",
    "b[9] = 1000\n",
    "print(a)\n",
    "print(b)"
   ]
  },
  {
   "cell_type": "code",
   "execution_count": null,
   "metadata": {},
   "outputs": [],
   "source": [
    "a = np.array(range(10))\n",
    "b = np.copy(a)\n",
    "b[9] = 1000\n",
    "print(a)\n",
    "print(b)"
   ]
  },
  {
   "cell_type": "markdown",
   "metadata": {},
   "source": [
    "## Performance of iterative computation\n",
    "Modeling is prediction and therefore is engineering. Many mechanical systems are based on physics governed by a set of PDEs and often analytical solutions for these PDEs do not exist. Before learning how to simulate these equations, the following shows how to filter the noise of signal. \n",
    "\n",
    "Here random noise following a Gaussian distribution is superimposed on a simple function. The function is defined on $N=10000$ uniformly spaced points between $[0,2\\pi]$. The locations of these points are stored in a vector $x_i$ with $i\\in[0,9999]$ and $x_0=0$ and $x_{N-1}=2\\pi$.\n",
    "\n",
    "The filter is not a great filter, but it intends to be a low-pass filter, i.e. it should preserve the low frequencies and remove the high frequency.\n",
    "$$\n",
    "\\hat{f}=\\frac{1}{2+a}\\left(f_{i-1}+af_{i}+f_{i+1}\\right)\n",
    "$$\n",
    "Its efficiency is increased when the filter is applied multiple times."
   ]
  },
  {
   "cell_type": "code",
   "execution_count": null,
   "metadata": {},
   "outputs": [],
   "source": [
    "N = 10000\n",
    "x = np.linspace(0,2*np.pi,N)\n",
    "f_exact = np.sin(x)\n",
    "f = np.copy(f_exact) + np.random.normal(loc= 0.0, scale=0.25,size=N)"
   ]
  },
  {
   "cell_type": "code",
   "execution_count": null,
   "metadata": {},
   "outputs": [],
   "source": [
    "print('Standard deviation of the added noise : %.2f' %np.std(f-f_exact))"
   ]
  },
  {
   "cell_type": "code",
   "execution_count": null,
   "metadata": {},
   "outputs": [],
   "source": [
    "import matplotlib.pyplot as plt\n",
    "plt.plot(x,f)\n",
    "plt.show()"
   ]
  },
  {
   "cell_type": "code",
   "execution_count": null,
   "metadata": {},
   "outputs": [],
   "source": [
    "ff = np.zeros(N)\n",
    "a = 6\n",
    "b = 1./(a + 2)"
   ]
  },
  {
   "cell_type": "code",
   "execution_count": null,
   "metadata": {},
   "outputs": [],
   "source": [
    "%%timeit\n",
    "ff[0] = (f[-1] + a*f[0] + f[1])*b\n",
    "ff[-1] = ff[0]\n",
    "for i in range(1,N-1):\n",
    "    ff[i] = (f[i-1] + a*f[i] + f[i+1])*b"
   ]
  },
  {
   "cell_type": "code",
   "execution_count": null,
   "metadata": {},
   "outputs": [],
   "source": [
    "import matplotlib.pyplot as plt\n",
    "plt.plot(x,f)\n",
    "plt.plot(x,ff)\n",
    "plt.show()"
   ]
  },
  {
   "cell_type": "markdown",
   "metadata": {},
   "source": [
    "Another approach is the while command:"
   ]
  },
  {
   "cell_type": "code",
   "execution_count": null,
   "metadata": {},
   "outputs": [],
   "source": [
    "%%timeit\n",
    "ff[0] = (f[-1] + a*f[0] + f[1])*b\n",
    "ff[-1] = ff[0]\n",
    "i = 1\n",
    "while i <= N-2:\n",
    "    ff[i] = (f[i-1] + a*f[i] + f[i+1])*b\n",
    "    i += 1"
   ]
  },
  {
   "cell_type": "markdown",
   "metadata": {},
   "source": [
    "The two algorithms above are easy to understand but python was designed to leverage vector computating, or the ability to perform the same operations on all or a subset of the elements of an array. Here is the above algorithm, written using indexing:"
   ]
  },
  {
   "cell_type": "code",
   "execution_count": null,
   "metadata": {},
   "outputs": [],
   "source": [
    "ff_for= np.copy(ff)"
   ]
  },
  {
   "cell_type": "code",
   "execution_count": null,
   "metadata": {},
   "outputs": [],
   "source": [
    "%%timeit\n",
    "\n",
    "\n",
    "ff[0] = (f[-1] + a*f[0] + f[1])*b\n",
    "ff[-1] = ff[0]\n",
    "ff[1:-1] = (f[:-2] + a*f[1:-1] + f[2:])*b\n"
   ]
  },
  {
   "cell_type": "markdown",
   "metadata": {},
   "source": [
    "You should always verify that your code follows the rules/laws/equations it is supposed to simulate. Indexing is not as straightfoward as the above for or while loop. Here the numpy function where is used to determine if there is any instance where the output of the while algorithm differs from the indexing algorithm"
   ]
  },
  {
   "cell_type": "code",
   "execution_count": null,
   "metadata": {},
   "outputs": [],
   "source": [
    "np.where(ff != ff_for)"
   ]
  },
  {
   "cell_type": "markdown",
   "metadata": {},
   "source": [
    "The function where returns an empty array. At this point you have verified that the algorithm using a while loop and the algorithm using indexing are identical. Note that if there is an error in the first algorithm, the second contains the same error. The verification of this algorithm is not absolute. Verification and Validation are extremely important for the design of products and algorithms. Make sure that you talk to your Faculty about V & V!\n",
    "\n",
    "Here the indexing algorithm is two orders of magnitude faster. Think about an algorithm that processes and analyzes a sensor's signal and should trigger the appropriate action as soon as a certain condition is met. Imagine a life saving algorithm such as the one governing this helmet https://hovding.com. Every operation should therefore be performed as fast as possible to minimize the response time. \n",
    "\n",
    "A more evolved algorithm includes a function. The function filter is defined as follows:"
   ]
  },
  {
   "cell_type": "code",
   "execution_count": null,
   "metadata": {},
   "outputs": [],
   "source": [
    "def filter(f,a):\n",
    "    b = 1./(a + 2)\n",
    "    flong = np.zeros(len(f)+2)\n",
    "    flong[1:-1] = np.copy(f)\n",
    "    flong[0] = f[-1]\n",
    "    flong[-1] = f[0]\n",
    "    ff = (flong[:-2] + a*flong[1:-1] + flong[2:])*b\n",
    "    return ff"
   ]
  },
  {
   "cell_type": "markdown",
   "metadata": {},
   "source": [
    "This filter works best if it is applied multiple times. The following code does just that using the above function:"
   ]
  },
  {
   "cell_type": "code",
   "execution_count": null,
   "metadata": {},
   "outputs": [],
   "source": [
    "f = np.copy(f_exact) + np.random.normal(loc= 0.0, scale=0.25,size=N)\n",
    "fori = np.copy(f)\n",
    "n_filter_iterations = 16\n",
    "ifilter = 0\n",
    "while ifilter < n_filter_iterations:\n",
    "    f = filter(f,6.)\n",
    "    ifilter += 1"
   ]
  },
  {
   "cell_type": "markdown",
   "metadata": {},
   "source": [
    "And the comparison between the original, filtered and base signals is shown below"
   ]
  },
  {
   "cell_type": "code",
   "execution_count": null,
   "metadata": {},
   "outputs": [],
   "source": [
    "plt.plot(x,fori,label='Noisy signal')\n",
    "plt.plot(x,f, label='Filtered signal')\n",
    "plt.plot(x,f_exact, 'k', label='Base signal')\n",
    "plt.legend()\n",
    "plt.xlabel(r'$x$')\n",
    "plt.ylabel(r'$f$')\n",
    "plt.show()\n",
    "\n"
   ]
  },
  {
   "cell_type": "markdown",
   "metadata": {},
   "source": [
    "The noise reduction is best illustrated by removing the base signal"
   ]
  },
  {
   "cell_type": "code",
   "execution_count": null,
   "metadata": {},
   "outputs": [],
   "source": [
    "plt.plot(x,fori-f_exact,label='Noisy signal')\n",
    "plt.plot(x,f-f_exact, label='Filtered signal')\n",
    "plt.legend()\n",
    "plt.xlabel(r'$x$')\n",
    "plt.ylabel(r'$f$')\n",
    "plt.show()"
   ]
  },
  {
   "cell_type": "markdown",
   "metadata": {},
   "source": [
    "Clearly the standard deviation of the filtered signal is less than that of the original signal. You can use the standard deviation as a measure of the performance of the filter."
   ]
  },
  {
   "cell_type": "code",
   "execution_count": null,
   "metadata": {},
   "outputs": [],
   "source": [
    "print('Noisy signal standard deviation: %.4f' %np.std(fori-f_exact))\n",
    "print('Filtered signal standard deviation: %.4f' %np.std(f-f_exact))"
   ]
  },
  {
   "cell_type": "markdown",
   "metadata": {},
   "source": [
    "Try different number of iterations of the filter. How does it affect the STD of the filtered signal?\n",
    "\n",
    "## Problem\n",
    "\n",
    "The objective is to determine a simple law that predicts the decay of the STD of the filtered signal as a function of the number of iterations. First write a code that stores the STD of the filtered signal for $2^M$ iterations with $0\\leq M\\leq 14$. Plot in loglog the STD as a function of the number of iterations (code is provided). "
   ]
  },
  {
   "cell_type": "code",
   "execution_count": null,
   "metadata": {},
   "outputs": [],
   "source": [
    "M = 15\n",
    "a = 6. # filter strength\n",
    "f = np.copy(f_exact) + np.random.normal(loc= 0.0, scale=0.25,size=N)\n",
    "f = np.copy(fori)\n",
    "std_error = np.zeros(M)\n",
    "n_filter_iterations = np.zeros(M)\n",
    "\"\"\" This is where you write your algorithm\"\"\"\n"
   ]
  },
  {
   "cell_type": "code",
   "execution_count": null,
   "metadata": {},
   "outputs": [],
   "source": [
    "plt.loglog(n_filter_iterations,std_error)\n",
    "plt.xlabel('$2^M$')\n",
    "plt.ylabel('STD($\\hat{f}-f_{base}$)')\n",
    "plt.show()"
   ]
  },
  {
   "cell_type": "markdown",
   "metadata": {},
   "source": [
    "You should see a linear behavior in your solution between  $10\\leq2^M$. Use curvefit to fit a power law,\n",
    "$$\n",
    "STD(M)=C\\left(2^M\\right)^n\n",
    "$$\n",
    "in that range. Hint you should be using this resource:\n",
    "https://docs.scipy.org/doc/scipy/reference/generated/scipy.optimize.curve_fit.html\n",
    "and the following:"
   ]
  },
  {
   "cell_type": "code",
   "execution_count": null,
   "metadata": {},
   "outputs": [],
   "source": [
    "mask = np.where(n_filter_iterations >= 10)\n",
    "print(n_filter_iterations[mask])"
   ]
  },
  {
   "cell_type": "code",
   "execution_count": null,
   "metadata": {},
   "outputs": [],
   "source": [
    "\"\"\" Definition of the Power Law Function\n",
    "Call it powerlaw\"\"\"\n"
   ]
  },
  {
   "cell_type": "code",
   "execution_count": null,
   "metadata": {},
   "outputs": [],
   "source": [
    "\"\"\" Find optimized parameters C and n for number of \n",
    "iterations larger or equal to 10\"\"\"\n"
   ]
  },
  {
   "cell_type": "code",
   "execution_count": null,
   "metadata": {},
   "outputs": [],
   "source": [
    "\"\"\" Plot your fit against your data. Nothing to change\n",
    "providing that you called your function powerlaw and\n",
    "the optimized parameter vector popt\"\"\"\n",
    "plt.loglog(n_filter_iterations,\n",
    "           std_error)\n",
    "plt.loglog(n_filter_iterations,\n",
    "           powerlaw(n_filter_iterations,*popt))\n",
    "plt.show()"
   ]
  },
  {
   "cell_type": "markdown",
   "metadata": {},
   "source": [
    "The curvefit gives you the ability to predict the reduction of the STD based on any number of iterations between $10$ and roughly $10^4$. Let's say that a STD of 0.02 is all that is needed. How many iterations are required?"
   ]
  },
  {
   "cell_type": "code",
   "execution_count": null,
   "metadata": {},
   "outputs": [],
   "source": []
  },
  {
   "cell_type": "code",
   "execution_count": null,
   "metadata": {},
   "outputs": [],
   "source": []
  },
  {
   "cell_type": "markdown",
   "metadata": {},
   "source": [
    "## Classes\n",
    "\n",
    "The concept of class is central to most libraries. It consists of the definition of an object, which has specific properties, data and function.\n",
    "\n",
    "Here is an example:\n",
    "\n",
    "Zografos et al. (*Compt. Methods Appl. Mech Eng.*, 61:177-187, 1987) proposed polynomials to compute density, dynamic viscosity, thermal conductivity, and specific heat at constant temperature of air at atmospheric pressure as a function of the static temperature $T$ on the Kelvin scale as follows:\n",
    "* Density $\\rho$ in units of $\\mathrm{kg/m^3}$:\n",
    "\n",
    "$$\n",
    "\\rho=\\begin{cases}\n",
    "-2.440\\times10^{-2}T+5.9958\\,, & 100\\,\\mathrm{K}\\leq T<150\\,\\mathrm{K}\\\\\n",
    "345.57(T-2.6884)^{-1}\\,, & 150\\,\\mathrm{K}\\leq T\\leq 3000\\,\\mathrm{K}\n",
    "\\end{cases}\n",
    "$$\n",
    "* Dynamic viscosity $\\mu$ in units of $\\mathrm{N.s/m^2}=\\mathrm{kg/(m.s)}=\\mathrm{Pa.s}$:\n",
    "\n",
    "$$\n",
    "\\mu = 4.1130\\times10^{-6} + 5.0523\\times10^{-8}T - 1.4346\\times10^{-11}T^2+2.5914\\times10^{-15}T^3\n",
    "$$\n",
    "\n",
    "* Thermal conductivity $k$ in units of $\\mathrm{W/(m.K)}$:\n",
    "\n",
    "$$\n",
    "k= -7.488\\times10^{-3} + 1.7082\\times10^{-4}T - 2.3758\\times10^{-10}T^2 + 2.2012\\times10^{-10}T^3 \\\\\n",
    " + 9.4600\\times10^{-14}T^4 + 1.5797\\times10^{-17}T^5\n",
    "$$\n",
    "\n",
    "* Specific heat at constant pressure $c_p$ in unites of $\\mathrm{J/(kg.K)}$:\n",
    "\n",
    "$$\n",
    "c_p=1061.332-0.432819T + 1.02344\\times10^{-3}T^2 - 6.47474\\times10^{-7}T^3 + 1.3864\\times10^{-10}T^4\n",
    "$$\n",
    "\n",
    "Air density $\\rho$ of units $\\mathrm{kg/m^3}$ can be computed from \n",
    "\n",
    "The Prandtl number $Pr$ can be computed as\n",
    "\n",
    "$$\n",
    "Pr=\\frac{\\mu c_p}{k}\n",
    "$$\n",
    "\n",
    "and the thermal conductivity $\\alpha$ of units $\\mathrm{m^2/s}$ as\n",
    "\n",
    "$$\n",
    "\\alpha = \\frac{k}{\\rho c_p}\n",
    "$$\n",
    "\n",
    "Write a class storing all these variables for input temperature (float) and unit used for temperature (string, it can only be \"K\", \"C\", \"F\"). The class should convert the temperature to Kelvin if unit is either \"C\" or \"F\"). The class should give a warning if \n",
    "* the temperature is outside of the range,\n",
    "* the unit is not \"K\", \"C\", \"F\", e.g. \"c\"\n",
    "\n",
    "### Tasks\n",
    "* Complete the manual part of the class (text between \"\"\" xxxx \"\"\"), i.e. write appropriate units. \n",
    "* Complete the class to compute all quantities defined in the manual.\n",
    "* Apply your class to the examples below.\n",
    "* Define units for examples."
   ]
  },
  {
   "cell_type": "code",
   "execution_count": null,
   "metadata": {},
   "outputs": [],
   "source": [
    "import numpy as np\n",
    "import math\n",
    "import matplotlib.pyplot as plt\n",
    "class Air:\n",
    "    \"\"\"\n",
    "    Returns an object containing the thermodynamic properties of air at atmospheric pressure\n",
    "    Input: \n",
    "            T: temperature (float)\n",
    "            Tunit: unit of temperature (string). Can only be \"K\", \"C\", \"F\"\n",
    "    output:\n",
    "            self.rho: density [kg/m^3]\n",
    "            self.mu: dynamic viscosity [write units here]\n",
    "            self.k: thermal conductivity [write units here]\n",
    "            self.cp: Specific heat at constant pressure [write units here]\n",
    "            self.Pr: Prandtl number\n",
    "            self.nu: kinematic viscosity [write units here]\n",
    "            self.alpha: thermal diffusivity [write units here]\n",
    "    \"\"\"\n",
    "    def __init__(self,T,Tunit):\n",
    "        if Tunit == \"C\":\n",
    "            T += 273.15\n",
    "        elif Tunit == \"F\":\n",
    "            T = (T - 32)*5/9 +273.15\n",
    "        elif Tunit != \"K\":\n",
    "            print(\"Wrong input for unit of temperature\")\n",
    "            print(\"Input should be 'K', 'C', or 'F'\")\n",
    "        self.T = T\n",
    "        self.mu = 4.1130E-6 + 5.0523E-8*T - 1.4346E-11*T**2 + 2.5914E-15*T**3\n",
    "        \n"
   ]
  },
  {
   "cell_type": "code",
   "execution_count": null,
   "metadata": {},
   "outputs": [],
   "source": [
    "myair = Air(-200,\"F\")\n",
    "print(\"Dynamic viscosity: %.2e [units]\" %(myair.mu))"
   ]
  }
 ],
 "metadata": {
  "kernelspec": {
   "display_name": "Python 3 (ipykernel)",
   "language": "python",
   "name": "python3"
  },
  "language_info": {
   "codemirror_mode": {
    "name": "ipython",
    "version": 3
   },
   "file_extension": ".py",
   "mimetype": "text/x-python",
   "name": "python",
   "nbconvert_exporter": "python",
   "pygments_lexer": "ipython3",
   "version": "3.9.13"
  }
 },
 "nbformat": 4,
 "nbformat_minor": 2
}
