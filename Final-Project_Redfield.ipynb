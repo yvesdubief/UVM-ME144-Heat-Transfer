{
 "cells": [
  {
   "cell_type": "markdown",
   "metadata": {
    "datalore": {
     "hide_input_from_viewers": false,
     "hide_output_from_viewers": false,
     "type": "MD"
    }
   },
   "source": [
    "# Final Project \n",
    "\n",
    "## Objective\n",
    "\n",
    "Develop a computational model to determine the feasibility and energy cost of using geothermal to supplement the cooling thermal management of buildings on campus.\n",
    "\n",
    "## Framework\n",
    "\n",
    "Each group should:\n",
    "*\tIdentify the cooling demand based on the heat transfer analysis of the ice rink or of your model building\n",
    "*\tDerive the necessary geothermal system to deliver the required cooling demand\n",
    "*\tSimulate how the solution handles the hottest days and their impact on the thermal comfort and the ice\n",
    "*\tThe energy cost to move fluid within the geothermal loop\n",
    "*\tPerform a thermal analysis of a few days to compare chilling power with heat load from external sources.\n",
    "\n",
    "## Simplifying assumptions\n",
    "\n",
    "*\tGround is assumed to be at $\\mathrm{10^\\circ C}$ at 2m deep\n",
    "*\tSoil can be sand or clay\n",
    "*\tFor the heat exchange between soil and piping study two possibilities: \n",
    "    *\tOption 1: The outside surface is at soil temperature in the heat exchanger\n",
    "    *\tOption 2: Introduce a parametric distance at which the soil is at 10C from the surface of the pipe. Study the effect of that distance on the pipe length\n",
    "*\tRecommended material for piping is HDPE\n",
    "*\tThe heat exchanger is assumed to require cool temperature of $\\mathrm{12^\\circ C}$ and return temperature of $\\mathrm{22^\\circ C}$. Efficacy is estimated at 0.75\n",
    "*\tWhen using the model building, use an indoor temperature of $\\mathrm{20^\\circ C}$"
   ]
  },
  {
   "cell_type": "markdown",
   "metadata": {
    "datalore": {
     "hide_input_from_viewers": false,
     "hide_output_from_viewers": false,
     "type": "MD"
    }
   },
   "source": [
    "<img src=\"HT Floor Plan 2.png\" alt=\"Floor Plan For the Building\"  width=50%> <img src=\"3D View House Plan.png\" alt=\"Floor Plan For the Building\"  width=50%>\n",
    "\n",
    "This design is based off of the Richardson UVM dorm building on Trinity campus but is simplified in shape and contains only one floor. The design choices include one room and one entrance. For this analysis, the door opening and closing will be neglected. The area and volume of the building is 141.6 $m^2$ and 708 $m^3$ as it is 16.863m (l) x 8.402m (w) x 5m (h) and the assumed maximum number of people is 54 with heat generation of 100W per person. The roof is concrete and .425m thick with no angled incline. Therefore, the specific heat of the concrete is 0.96 $\\frac{kJ}{kg K}$ and the thermal conductivity is 0.1-0.3 $\\frac{W}{m K}$.\n",
    "\n",
    "Analysis by structure component: \n",
    "* Vertical walls all experience natural and forced convection\n",
    "* The roof and floor will experience natural and forced convection, radiation, and thermal conduction\n",
    "  \n",
    "  $q_{conv} = \\frac{\\bar{Nu}k_f}{L_{ref}}A_{wall}(T_{s,wall}-T_{\\infty})$\n",
    "\n",
    "  $k_f = k_{air}(T_f)$\n",
    "\n",
    "  $T_f = \\frac{T_{s,wall}+T_{\\infty}}{2}$\n",
    "\n",
    "  $\\frac{dT_{room}}{dt} = \\frac{1}{\\rho_{air} Cp_{air} V}(E_{in} + \\dot{q_{ppl}}-\\dot{q_{cold}})$ (Conservation of Energy)\n",
    "\n",
    "  $\\frac{dt_{s,up}}{dt} = (\\Sigma(q_{weather}) - \\frac{1}{R_{tot}}(T_{s,up}-T_{s,low}))\\frac{1}{\\rho_0 Cp_0}$\n",
    "\n",
    "  $\\frac{dt_{s,low}}{dt} = (\\frac{1}{R_{tot}}(T_{s,up}-T_{s,low}) - \\frac{Nuk}{L_{roof}}(T_{s,low}-T_{sp}))\\frac{1}{\\rho_r Cp_r}$\n",
    "\n",
    "  $\\frac{dy_0}{dt} = f(t,y_0) - g(t,y_0,y_1)$\n",
    "\n",
    "  $\\frac{dy_1}{dt} = g(t,y_o,y_1) - h(t,y_o,y_1)$"
   ]
  },
  {
   "cell_type": "code",
   "execution_count": 1,
   "metadata": {
    "datalore": {
     "hide_input_from_viewers": false,
     "hide_output_from_viewers": false,
     "type": "CODE"
    }
   },
   "outputs": [],
   "source": [
    "import sys  \n",
    "sys.path.insert(0, 'Libraries/') "
   ]
  },
  {
   "cell_type": "code",
   "execution_count": 2,
   "metadata": {
    "datalore": {
     "hide_input_from_viewers": false,
     "hide_output_from_viewers": false,
     "type": "CODE"
    }
   },
   "outputs": [],
   "source": [
    "import matplotlib.pyplot as plt\n",
    "import numpy as np\n",
    "import pandas as pd"
   ]
  },
  {
   "cell_type": "code",
   "execution_count": 3,
   "metadata": {
    "datalore": {
     "hide_input_from_viewers": false,
     "hide_output_from_viewers": false,
     "type": "CODE"
    }
   },
   "outputs": [
    {
     "ename": "FileNotFoundError",
     "evalue": "[Errno 2] No such file or directory: 'Climate/April-October-2020.xlsx'",
     "output_type": "error",
     "traceback": [
      "\u001b[0;31m---------------------------------------------------------------------------\u001b[0m",
      "\u001b[0;31mFileNotFoundError\u001b[0m                         Traceback (most recent call last)",
      "\u001b[0;32m/var/folders/hd/msvhbc550t13nl54x1ft6rgw0000gp/T/ipykernel_46340/1532219818.py\u001b[0m in \u001b[0;36m<module>\u001b[0;34m\u001b[0m\n\u001b[0;32m----> 1\u001b[0;31m \u001b[0mxl\u001b[0m \u001b[0;34m=\u001b[0m \u001b[0mpd\u001b[0m\u001b[0;34m.\u001b[0m\u001b[0mExcelFile\u001b[0m\u001b[0;34m(\u001b[0m\u001b[0;34m'Climate/April-October-2020.xlsx'\u001b[0m\u001b[0;34m)\u001b[0m\u001b[0;34m\u001b[0m\u001b[0;34m\u001b[0m\u001b[0m\n\u001b[0m",
      "\u001b[0;32m~/opt/anaconda3/lib/python3.9/site-packages/pandas/io/excel/_base.py\u001b[0m in \u001b[0;36m__init__\u001b[0;34m(self, path_or_buffer, engine, storage_options)\u001b[0m\n\u001b[1;32m   1189\u001b[0m                 \u001b[0mext\u001b[0m \u001b[0;34m=\u001b[0m \u001b[0;34m\"xls\"\u001b[0m\u001b[0;34m\u001b[0m\u001b[0;34m\u001b[0m\u001b[0m\n\u001b[1;32m   1190\u001b[0m             \u001b[0;32melse\u001b[0m\u001b[0;34m:\u001b[0m\u001b[0;34m\u001b[0m\u001b[0;34m\u001b[0m\u001b[0m\n\u001b[0;32m-> 1191\u001b[0;31m                 ext = inspect_excel_format(\n\u001b[0m\u001b[1;32m   1192\u001b[0m                     \u001b[0mcontent_or_path\u001b[0m\u001b[0;34m=\u001b[0m\u001b[0mpath_or_buffer\u001b[0m\u001b[0;34m,\u001b[0m \u001b[0mstorage_options\u001b[0m\u001b[0;34m=\u001b[0m\u001b[0mstorage_options\u001b[0m\u001b[0;34m\u001b[0m\u001b[0;34m\u001b[0m\u001b[0m\n\u001b[1;32m   1193\u001b[0m                 )\n",
      "\u001b[0;32m~/opt/anaconda3/lib/python3.9/site-packages/pandas/io/excel/_base.py\u001b[0m in \u001b[0;36minspect_excel_format\u001b[0;34m(content_or_path, storage_options)\u001b[0m\n\u001b[1;32m   1068\u001b[0m         \u001b[0mcontent_or_path\u001b[0m \u001b[0;34m=\u001b[0m \u001b[0mBytesIO\u001b[0m\u001b[0;34m(\u001b[0m\u001b[0mcontent_or_path\u001b[0m\u001b[0;34m)\u001b[0m\u001b[0;34m\u001b[0m\u001b[0;34m\u001b[0m\u001b[0m\n\u001b[1;32m   1069\u001b[0m \u001b[0;34m\u001b[0m\u001b[0m\n\u001b[0;32m-> 1070\u001b[0;31m     with get_handle(\n\u001b[0m\u001b[1;32m   1071\u001b[0m         \u001b[0mcontent_or_path\u001b[0m\u001b[0;34m,\u001b[0m \u001b[0;34m\"rb\"\u001b[0m\u001b[0;34m,\u001b[0m \u001b[0mstorage_options\u001b[0m\u001b[0;34m=\u001b[0m\u001b[0mstorage_options\u001b[0m\u001b[0;34m,\u001b[0m \u001b[0mis_text\u001b[0m\u001b[0;34m=\u001b[0m\u001b[0;32mFalse\u001b[0m\u001b[0;34m\u001b[0m\u001b[0;34m\u001b[0m\u001b[0m\n\u001b[1;32m   1072\u001b[0m     ) as handle:\n",
      "\u001b[0;32m~/opt/anaconda3/lib/python3.9/site-packages/pandas/io/common.py\u001b[0m in \u001b[0;36mget_handle\u001b[0;34m(path_or_buf, mode, encoding, compression, memory_map, is_text, errors, storage_options)\u001b[0m\n\u001b[1;32m    709\u001b[0m         \u001b[0;32melse\u001b[0m\u001b[0;34m:\u001b[0m\u001b[0;34m\u001b[0m\u001b[0;34m\u001b[0m\u001b[0m\n\u001b[1;32m    710\u001b[0m             \u001b[0;31m# Binary mode\u001b[0m\u001b[0;34m\u001b[0m\u001b[0;34m\u001b[0m\u001b[0m\n\u001b[0;32m--> 711\u001b[0;31m             \u001b[0mhandle\u001b[0m \u001b[0;34m=\u001b[0m \u001b[0mopen\u001b[0m\u001b[0;34m(\u001b[0m\u001b[0mhandle\u001b[0m\u001b[0;34m,\u001b[0m \u001b[0mioargs\u001b[0m\u001b[0;34m.\u001b[0m\u001b[0mmode\u001b[0m\u001b[0;34m)\u001b[0m\u001b[0;34m\u001b[0m\u001b[0;34m\u001b[0m\u001b[0m\n\u001b[0m\u001b[1;32m    712\u001b[0m         \u001b[0mhandles\u001b[0m\u001b[0;34m.\u001b[0m\u001b[0mappend\u001b[0m\u001b[0;34m(\u001b[0m\u001b[0mhandle\u001b[0m\u001b[0;34m)\u001b[0m\u001b[0;34m\u001b[0m\u001b[0;34m\u001b[0m\u001b[0m\n\u001b[1;32m    713\u001b[0m \u001b[0;34m\u001b[0m\u001b[0m\n",
      "\u001b[0;31mFileNotFoundError\u001b[0m: [Errno 2] No such file or directory: 'Climate/April-October-2020.xlsx'"
     ]
    }
   ],
   "source": [
    "xl = pd.ExcelFile('Climate/April-October-2020.xlsx')"
   ]
  },
  {
   "cell_type": "markdown",
   "metadata": {
    "datalore": {
     "hide_input_from_viewers": false,
     "hide_output_from_viewers": false,
     "type": "MD"
    }
   },
   "source": [
    "## Available locations"
   ]
  },
  {
   "cell_type": "code",
   "execution_count": 4,
   "metadata": {
    "datalore": {
     "hide_input_from_viewers": false,
     "hide_output_from_viewers": false,
     "type": "CODE"
    }
   },
   "outputs": [
    {
     "data": {
      "text/plain": [
       "['Canmore, AB',\n",
       " 'Craftsbury, VT',\n",
       " 'Bend, OR',\n",
       " 'Boston, MA',\n",
       " 'Bozeman, MT',\n",
       " 'Essex Junction, VT',\n",
       " 'Lake Placid, NY',\n",
       " 'Minneapolis, MN',\n",
       " 'Nagano City, Japan',\n",
       " 'Randolph, VT',\n",
       " 'Soldier Hollow, UT',\n",
       " 'Villard de Lans, France']"
      ]
     },
     "metadata": {},
     "output_type": "display_data"
    }
   ],
   "source": [
    "xl.sheet_names "
   ]
  },
  {
   "cell_type": "markdown",
   "metadata": {
    "datalore": {
     "hide_input_from_viewers": false,
     "hide_output_from_viewers": false,
     "type": "MD"
    }
   },
   "source": [
    "## Vermont study: Burlington VT January 01, 2021 - December 31, 2021"
   ]
  },
  {
   "cell_type": "code",
   "execution_count": 5,
   "metadata": {
    "datalore": {
     "hide_input_from_viewers": false,
     "hide_output_from_viewers": false,
     "type": "CODE"
    }
   },
   "outputs": [],
   "source": [
    "xl = pd.ExcelFile('Climate/Burlington, VT 2021-01-01 to 2021-12-31.xlsx')"
   ]
  },
  {
   "cell_type": "code",
   "execution_count": 6,
   "metadata": {
    "datalore": {
     "hide_input_from_viewers": false,
     "hide_output_from_viewers": false,
     "type": "CODE"
    }
   },
   "outputs": [
    {
     "data": {
      "text/html": [
       "<div>\n",
       "<style scoped>\n",
       "    .dataframe tbody tr th:only-of-type {\n",
       "        vertical-align: middle;\n",
       "    }\n",
       "\n",
       "    .dataframe tbody tr th {\n",
       "        vertical-align: top;\n",
       "    }\n",
       "\n",
       "    .dataframe thead th {\n",
       "        text-align: right;\n",
       "    }\n",
       "</style>\n",
       "<table border=\"1\" class=\"dataframe\">\n",
       "  <thead>\n",
       "    <tr style=\"text-align: right;\">\n",
       "      <th></th>\n",
       "      <th>name</th>\n",
       "      <th>temp</th>\n",
       "      <th>feelslike</th>\n",
       "      <th>dew</th>\n",
       "      <th>humidity</th>\n",
       "      <th>precip</th>\n",
       "      <th>precipprob</th>\n",
       "      <th>preciptype</th>\n",
       "      <th>snow</th>\n",
       "      <th>snowdepth</th>\n",
       "      <th>...</th>\n",
       "      <th>sealevelpressure</th>\n",
       "      <th>cloudcover</th>\n",
       "      <th>visibility</th>\n",
       "      <th>solarradiation</th>\n",
       "      <th>solarenergy</th>\n",
       "      <th>uvindex</th>\n",
       "      <th>severerisk</th>\n",
       "      <th>conditions</th>\n",
       "      <th>icon</th>\n",
       "      <th>stations</th>\n",
       "    </tr>\n",
       "    <tr>\n",
       "      <th>datetime</th>\n",
       "      <th></th>\n",
       "      <th></th>\n",
       "      <th></th>\n",
       "      <th></th>\n",
       "      <th></th>\n",
       "      <th></th>\n",
       "      <th></th>\n",
       "      <th></th>\n",
       "      <th></th>\n",
       "      <th></th>\n",
       "      <th></th>\n",
       "      <th></th>\n",
       "      <th></th>\n",
       "      <th></th>\n",
       "      <th></th>\n",
       "      <th></th>\n",
       "      <th></th>\n",
       "      <th></th>\n",
       "      <th></th>\n",
       "      <th></th>\n",
       "      <th></th>\n",
       "    </tr>\n",
       "  </thead>\n",
       "  <tbody>\n",
       "    <tr>\n",
       "      <th>2021-01-01</th>\n",
       "      <td>Burlington, VT</td>\n",
       "      <td>-3.9</td>\n",
       "      <td>-7.7</td>\n",
       "      <td>-8.8</td>\n",
       "      <td>68.6</td>\n",
       "      <td>0.0</td>\n",
       "      <td>NaN</td>\n",
       "      <td>NaN</td>\n",
       "      <td>0.0</td>\n",
       "      <td>6.3</td>\n",
       "      <td>...</td>\n",
       "      <td>1030.1</td>\n",
       "      <td>48.8</td>\n",
       "      <td>16.0</td>\n",
       "      <td>NaN</td>\n",
       "      <td>NaN</td>\n",
       "      <td>NaN</td>\n",
       "      <td>NaN</td>\n",
       "      <td>Partially cloudy</td>\n",
       "      <td>partly-cloudy-night</td>\n",
       "      <td>72622564776,KPBG,KBTV,KMVL,72611454771,7261701...</td>\n",
       "    </tr>\n",
       "  </tbody>\n",
       "</table>\n",
       "<p>1 rows × 23 columns</p>\n",
       "</div>"
      ]
     },
     "metadata": {},
     "output_type": "display_data"
    }
   ],
   "source": [
    "weather = pd.read_excel(\"Climate/Burlington, VT 2021-01-01 to 2021-12-31.xlsx\",\n",
    "                        sheet_name=xl.sheet_names[0],header=0,\n",
    "                        converters= {'datetime': pd.to_datetime},)\n",
    "weather = weather.set_index('datetime')\n",
    "weather.head(1) "
   ]
  },
  {
   "cell_type": "code",
   "execution_count": 7,
   "metadata": {
    "datalore": {
     "hide_input_from_viewers": false,
     "hide_output_from_viewers": false,
     "type": "CODE"
    }
   },
   "outputs": [
    {
     "data": {
      "text/html": []
     },
     "metadata": {},
     "output_type": "display_data"
    }
   ],
   "source": [
    "loc = 'Essex Junction, VT'\n",
    "weather = pd.read_excel(\"Climate/April-October-2020.xlsx\",\n",
    "                        sheet_name=loc,header=0,\n",
    "                        converters= {'Date time': pd.to_datetime},)\n",
    "weather = weather.set_index('Date time')\n",
    "weather['Name'].head(1)"
   ]
  },
  {
   "cell_type": "markdown",
   "metadata": {
    "datalore": {
     "hide_input_from_viewers": false,
     "hide_output_from_viewers": false,
     "type": "MD"
    }
   },
   "source": [
    "### Clean possible NaNs"
   ]
  },
  {
   "cell_type": "code",
   "execution_count": 8,
   "metadata": {
    "datalore": {
     "hide_input_from_viewers": false,
     "hide_output_from_viewers": false,
     "type": "CODE"
    }
   },
   "outputs": [],
   "source": [
    "interp_method = 'linear' \n",
    "weather['Solar Radiation'] = weather['Solar Radiation'].fillna(0.0)\n",
    "weather['Cloud Cover'] = weather['Cloud Cover'].fillna(0.0)\n",
    "weather['Precipitation'] = weather['Precipitation'].fillna(0.0)\n",
    "weather['Wind Speed'] = weather['Wind Speed'].interpolate(interp_method)\n",
    "weather['Temperature'] = weather['Temperature'].interpolate(interp_method)\n",
    "weather['Solar Radiation'] = weather['Solar Radiation'].interpolate(interp_method)\n",
    "weather['Cloud Cover'] = weather['Cloud Cover'].interpolate(interp_method)\n",
    "weather['Dew Point'] = weather['Dew Point'].interpolate(interp_method)\n",
    "weather['Precipitation'] = weather['Precipitation'].interpolate(interp_method)\n",
    "weather['Relative Humidity'] = weather['Relative Humidity'].interpolate(interp_method)\n",
    "\n",
    "# weather['Name'].head(-2)"
   ]
  },
  {
   "cell_type": "markdown",
   "metadata": {
    "datalore": {
     "hide_input_from_viewers": false,
     "hide_output_from_viewers": false,
     "type": "MD"
    }
   },
   "source": [
    "### Visual data check"
   ]
  },
  {
   "cell_type": "code",
   "execution_count": 9,
   "metadata": {
    "datalore": {
     "hide_input_from_viewers": false,
     "hide_output_from_viewers": false,
     "type": "CODE"
    }
   },
   "outputs": [
    {
     "data": {
      "image/png": "[encoded data removed]"
     },
     "metadata": {
      "image/png": {}
     },
     "output_type": "display_data"
    }
   ],
   "source": [
    "ax0 = weather.plot(y='Solar Radiation')\n",
    "ax0 = weather.plot(y='Temperature')\n",
    "ax0 = weather.plot(y='Cloud Cover')\n",
    "ax0 = weather.plot(y='Wind Speed')\n",
    "ax0 = weather.plot(y='Dew Point')\n",
    "ax0 = weather.plot(y='Precipitation')\n",
    "ax0 = weather.plot(y='Relative Humidity')"
   ]
  },
  {
   "cell_type": "markdown",
   "metadata": {
    "datalore": {
     "hide_input_from_viewers": false,
     "hide_output_from_viewers": false,
     "type": "MD"
    }
   },
   "source": [
    "### Creation of the interpolation function\n",
    "\n",
    "Note the definition of new functions. Use `U_atmospheric(t)`, `T_atmospheric(t)`, `sun_irradiation(t)`, `dew_point(t)`, `cloud_cover`, `relative_humidity` and `rain_rate`. These functions already include the appropriate clipping of unrealistic values"
   ]
  },
  {
   "cell_type": "code",
   "execution_count": 10,
   "metadata": {
    "datalore": {
     "hide_input_from_viewers": false,
     "hide_output_from_viewers": false,
     "type": "CODE"
    }
   },
   "outputs": [],
   "source": [
    "from scipy.interpolate import interp1d\n",
    "interp_method = 'cubic' #qa  Qa  qa\n",
    "\n",
    "t_data = np.arange(0,weather.shape[0]*15*60,15*60)\n",
    "U_atm = np.abs(weather['Wind Speed'][:].to_numpy()/3.6) #converted from km/h to m/s\n",
    "T_atm = weather['Temperature'][:].to_numpy()\n",
    "q_sun = weather['Solar Radiation'][:].to_numpy()\n",
    "# CC = weather['Cloud Cover'][:].to_numpy()\n",
    "cc = weather['Cloud Cover'][:].to_numpy()/100. # converted from % to fraction\n",
    "rh = weather['Relative Humidity'][:].to_numpy() # left as %\n",
    "p_r = weather['Precipitation'][:].to_numpy()*1e-3/(15*60) #converted to mm to m/s \n",
    "T_dp = weather['Dew Point'][:].to_numpy()\n",
    "f_U_atm = interp1d(t_data,U_atm,kind=interp_method)\n",
    "def U_atmospheric(t):\n",
    "    global f_U_atm\n",
    "    return np.maximum(f_U_atm(t),0.)\n",
    "f_T_atm = interp1d(t_data,T_atm,kind=interp_method)\n",
    "def T_atmospheric(t):\n",
    "    global f_T_atm\n",
    "    return f_T_atm(t)\n",
    "f_q_sun = interp1d(t_data,q_sun,kind=interp_method)\n",
    "def sun_irradiation(t):\n",
    "    global f_q_sun\n",
    "    return np.maximum(f_q_sun(t),0.)\n",
    "f_CC = interp1d(t_data,cc,kind=interp_method)\n",
    "def cloud_cover(t):\n",
    "    global f_CC\n",
    "    return np.clip(f_CC(t),0.,1.)\n",
    "f_T_dp = interp1d(t_data,T_dp,kind=interp_method)\n",
    "def dew_point(t):\n",
    "    global f_T_dp\n",
    "    return f_T_dp(t)\n",
    "f_RH = interp1d(t_data,rh,kind=interp_method)\n",
    "def relative_humidity(t):\n",
    "    global f_RH\n",
    "    return np.clip(f_RH(t),0.,100.)\n",
    "f_rain = interp1d(t_data,p_r,kind=interp_method)\n",
    "def rain_rate(t):\n",
    "    global f_rain\n",
    "    return np.maximum(f_rain(t),0.)"
   ]
  },
  {
   "cell_type": "markdown",
   "metadata": {
    "datalore": {
     "hide_input_from_viewers": false,
     "hide_output_from_viewers": false,
     "type": "MD"
    }
   },
   "source": [
    "# Begin Working From Here \n",
    "### Importing libraries to solve heat transfer problem"
   ]
  },
  {
   "cell_type": "code",
   "execution_count": 11,
   "metadata": {
    "datalore": {
     "hide_input_from_viewers": false,
     "hide_output_from_viewers": false,
     "type": "CODE"
    }
   },
   "outputs": [],
   "source": [
    "import scipy.constants as csts\n",
    "from scipy.integrate import solve_ivp\n",
    "from Libraries import thermodynamics as thermo\n",
    "from Libraries import HT_external_convection as extconv\n",
    "from Libraries import HT_natural_convection as natconv"
   ]
  },
  {
   "cell_type": "markdown",
   "metadata": {
    "datalore": {
     "hide_input_from_viewers": false,
     "hide_output_from_viewers": false,
     "type": "MD"
    }
   },
   "source": [
    "Convection heat transfer is determined by the relative strength of forced and natural convection. Here the forced convection is the wind over the roof. Regardless of the direction of the wind, the length of the slab is always assumed to be the length of the roof $L$. Thermodynamics properties with a subscript $f$ denotes properties evaluated at the film temperature\n",
    "$$\n",
    "T_f = \\frac{T_{s,up}+T_\\infty}{2}\\,,\n",
    "$$ where $T_{s,up}$ is the temperature at the top surface of the roof. For every time iteration, the following non-dimensional numbers are computed:\n",
    "* Reynolds number quantifies the wind strength\n",
    "$$\n",
    "Re=\\frac{U_\\infty L}{\\nu_f}\n",
    "$$\n",
    "* Grashof number quantifies the natural convection strength\n",
    "$$\n",
    "Gr=\\frac{g\\beta\\left\\vert T_{s,up}-T_\\infty\\right\\vert L^3}{\\nu_f^2}\n",
    "$$\n",
    "* Richardson number quantifies the relative strength of natural convection vs forced wind convection\n",
    "$$\n",
    "Ri=\\frac{Gr}{Re^2}\n",
    "$$\n",
    "* Rayleigh number is required for Nusselt number convection in case of natural convection.\n",
    "$$\n",
    "Ra=\\frac{g\\beta\\left\\vert T_{s,up}-T_\\infty\\right\\vert L^3}{\\nu_f\\alpha_f}\n",
    "$$\n",
    "\n",
    "The following algorithm determines the local average convection coefficient\n",
    "$$\n",
    "\\bar{h}=\\bar{h}_{forced}+\\bar{h}_{natural}=\\frac{\\overline{Nu}_{forced}k_f}{L}+\\frac{\\overline{Nu}_{natural}k_f}{L}\n",
    "$$\n",
    "where $\\overline{Nu}_{forced}$ is the correlation for the flow over a plate at constant temperature and $\\overline{Nu}_{natural}$ is the correlation for natural convection over a horizontal surface at constant temperature. \n",
    "\n",
    "* If the wind velocity drops below $U_\\infty=0.15\\mathrm{m/s}$, there is no forced convection: $h_{forced}=0$\n",
    "* If $Ri<0.1$, natural convection is negligible, $h_{natural} = 0$, compute $h_{forced}$\n",
    "* If $Ri>10$, forced convection is negligible, $h_{forced}=0$, compute $h_{natural}$\n",
    "* If $0.1\\leq Ri\\leq 10$ compute both $h_{forced}$ and $h_{natural}$\n",
    "### Convection heat transfer on upper surface\n",
    "\n",
    "Where you write equations and text"
   ]
  },
  {
   "cell_type": "code",
   "execution_count": 12,
   "metadata": {
    "datalore": {
     "hide_input_from_viewers": false,
     "hide_output_from_viewers": false,
     "type": "CODE"
    }
   },
   "outputs": [],
   "source": [
    "def outsideconvection(Uinf, T_f, Tinf, air_f,L_roof, Tsup):\n",
    "    Re = np.abs(Uinf)*L_roof/air_f.nu\n",
    "    Gr = natconv.Gr(beta=air_f.beta,DT=np.abs(Tsup-Tinf),D=L_roof,nu=air_f.nu)\n",
    "    Ra = natconv.Ra(beta=air_f.beta,DT=np.abs(Tsup-Tinf),D=L_roof,nu=air_f.nu,alpha=air_f.alpha)\n",
    "    if (Uinf < 0.15):\n",
    "        ForcedConvection = False\n",
    "        NaturalConvection = True\n",
    "    else:\n",
    "        Ri = Gr / Re**2\n",
    "        if Ri < 0.1:\n",
    "            ForcedConvection = True\n",
    "            NaturalConvection = False\n",
    "        elif Ri > 10:\n",
    "            ForcedConvection = False\n",
    "            NaturalConvection = True\n",
    "        else:\n",
    "            ForcedConvection = True\n",
    "            NaturalConvection = True\n",
    "    if ForcedConvection:\n",
    "        if (Re <= 5e5):\n",
    "            airflow = extconv.FlatPlate('laminar','isothermal',U_infty=Uinf,nu=air_f.nu,alpha=air_f.alpha, L=L_roof,xi=0,Re_xc= 5e5)\n",
    "            airflow.average(L_roof)\n",
    "            hconv_f = airflow.Nu_ave*air_f.k/L_roof\n",
    "        elif Re > 5e5:\n",
    "            airflow = extconv.FlatPlate('mixed','isothermal',U_infty=Uinf,nu=air_f.nu,alpha=air_f.alpha, L=L_roof,xi=0,Re_xc= 5e5)\n",
    "            airflow.average(L_roof)\n",
    "            hconv_f = airflow.Nu_ave*air_f.k/L_roof\n",
    "    else:\n",
    "        hconv_f = 0\n",
    "    #Natural convection flux\n",
    "    if NaturalConvection and Ra > 1e4:\n",
    "        if Tsup >= Tinf:\n",
    "            airflow = natconv.FlatPlate(Ra,air_f.Pr,'upper','hot')\n",
    "        else:\n",
    "            airflow = natconv.FlatPlate(Ra,air_f.Pr,'upper','cold')\n",
    "        hconv_n = airflow.Nu*air_f.k/L_roof\n",
    "    else:\n",
    "        hconv_n = 0\n",
    "    #Total convection flux (here not a function of Ri)\n",
    "    h = hconv_n + hconv_f\n",
    "    qpp = h*(Tinf - Tsup)\n",
    "    \n",
    "    return qpp"
   ]
  },
  {
   "cell_type": "markdown",
   "metadata": {
    "datalore": {
     "hide_input_from_viewers": false,
     "hide_output_from_viewers": false,
     "type": "MD"
    }
   },
   "source": [
    "### Radiation between outer surface and sky\n",
    "\n",
    "The radiation between the surface and sky depends on cloud coverage (variable $cc$ between 0 and 1), air temperature and the dew point temperature $T_{dp}$ for the correlation chosen below. \n",
    "\n",
    "#### Definition of $T_{sky}$\n",
    "* $T_{\\infty}$ Air temperature $\\mathrm{^\\circ C}$\n",
    "* $T_{dp}$ Dew point temperature $\\mathrm{^\\circ C}$\n",
    "* $cc$ Cloud coverage\n",
    "* $\\varepsilon_{clear}$: emissivity of clear blue sky\n",
    "* $\\varepsilon_{sky}=1$\n",
    "\n",
    "$$\n",
    "\\varepsilon_{clear}=0.711 + 0.56\\frac{Tdp}{100} + 0.73\\left(\\frac{Tdp}{100}\\right)^2\n",
    "$$\n",
    "\n",
    "$$\n",
    "Ca = 1. + 0.02224cc + 0.0035cc^2 + 0.00028cc^3\n",
    "$$\n",
    "\n",
    "$$\n",
    "T_{sky}  = (Ca\\varepsilon_{clear})^{0.25}(Tinf+273.15)\n",
    "$$\n",
    "\n",
    "#### Radiation coefficient between surface and sky\n",
    "$$\n",
    "h_{rad,sky}= \\varepsilon_{sky}\\sigma((T_{sky}+273.15)+(T_s+273.15))\n",
    "        ((T_{sky}+273.15)^2+(T_s+273.15)^2)\n",
    "$$"
   ]
  },
  {
   "cell_type": "code",
   "execution_count": 13,
   "metadata": {
    "datalore": {
     "hide_input_from_viewers": false,
     "hide_output_from_viewers": false,
     "type": "CODE"
    }
   },
   "outputs": [],
   "source": [
    "def T_sky(Tdp,cc,Tinf,Tsup):\n",
    "    eps_clear = 0.711 + 0.56*(Tdp/100.) + 0.73*(Tdp/100.)**2\n",
    "    Ca = 1. + 0.02224*cc + 0.0035*cc**2 + 0.00028*cc**3\n",
    "    Tsky  = (Ca*eps_clear)**0.25*thermo.C2K(Tinf)\n",
    "    hr = eps_sky*csts.sigma*(Tsky+thermo.C2K(Tsup))* \\\n",
    "        (Tsky**2+thermo.C2K(Tsup)**2)\n",
    "    return Tsky,hr\n",
    "def skyradiation(Tdp,cc,Tinf,Tsup):\n",
    "    # Tsup must be in Celsius\n",
    "    Tsky,hr = T_sky(Tdp,cc,Tinf,Tsup)\n",
    "    qsky = eps_sky*csts.sigma*(Tsky**4 - thermo.C2K(Tsup)**4)\n",
    "    return qsky"
   ]
  },
  {
   "cell_type": "markdown",
   "metadata": {
    "datalore": {
     "hide_input_from_viewers": false,
     "hide_output_from_viewers": false,
     "type": "MD"
    }
   },
   "source": [
    "### Heat transfer with rain\n",
    "\n",
    "Rain has a cooling or heating effect on the surface depending on the difference between the wet bulb temperature and the surface temperature. The wet bulb temperature is a function of air temperature and humidity. The heat flux of the rain onto the surface is then calculated as the difference of the rate of enthalpy of the rain at wet bulb temperature hitting the surface and the rate of enthalpy at surface temperature for the same flow rate (variable $Pr$ for precipitation).\n",
    "#### Wet Bulb Temperature Correlation\n",
    "\n",
    "$$\n",
    "T_{WB}=T_\\infty\\arctan\\left[0.1515977\\sqrt{RH + 8.313659}\\right] + \\arctan(T_\\infty + RH) - \\arctan(RH - 1.676331) + 0.00391838RH^{1.5}\\arctan(0.023101RH) \\\n",
    "            - 4.686035\n",
    "$$\n",
    "\n",
    "#### Heat Flux of Cooling by Rain\n",
    "$$\n",
    "q''=\\rho C_p P_r(T_{WB}-Ts(t))\n",
    "$$\n",
    "\n",
    "where $\\rho=1000\\mathrm{kg/m^3}$, $C_p=4.19\\times10^3\\mathrm{J/Kg.K}$ and $P_r$ is the precipitation."
   ]
  },
  {
   "cell_type": "code",
   "execution_count": 14,
   "metadata": {
    "datalore": {
     "hide_input_from_viewers": false,
     "hide_output_from_viewers": false,
     "type": "CODE"
    }
   },
   "outputs": [],
   "source": [
    "def T_wet_bulb(T,RH):\n",
    "    return T * np.arctan(0.1515977*(RH + 8.313659)**0.5) + np.arctan(T + RH) \\\n",
    "            - np.arctan(RH - 1.676331) + 0.00391838*RH**1.5*np.arctan(0.023101*RH) \\\n",
    "            - 4.686035\n",
    "def rain(pr,Tinf,RH,Tsup):\n",
    "    Twb = T_wet_bulb(Tinf,RH)\n",
    "#     print(\"rain\",pr,Twb,Tinf,RH,Tsup)\n",
    "    rho = 1000.\n",
    "    Cp = 4.19e3\n",
    "    return rho*Cp*pr*(Twb - Tsup)\n",
    "    "
   ]
  },
  {
   "cell_type": "markdown",
   "metadata": {
    "datalore": {
     "hide_input_from_viewers": false,
     "hide_output_from_viewers": false,
     "type": "MD"
    }
   },
   "source": [
    "## Governing Equation of the System\n",
    "\n",
    "Conservation of energy equation is applied to the roof, which is assumed to be at uniform temperature $T_{s,up}(t)$:\n",
    "\n",
    "$$\n",
    "\\iint_A\\rho_{ins}C_{p,ins}\\frac{dT_{s,up}}{dt}=\\rho_{ins}C_{p,ins}A\\frac{dT_{s,up}}{dt}=q_{sun}+q_{rain}+q_{conv}+q_{rad,sky}-q_{cond}=(q''_{sun}+q''_{rain}+q''_{conv}+q''_{rad,sky}-q''_{cond})A\n",
    "$$\n",
    "\n",
    "Therefore the equation govering the surface temperature is:\n",
    "$$\n",
    "\\frac{dT_{s,up}}{dt}=\\frac{1}{\\rho_{ins}C_{p,ins}}(q''_{sun}+q''_{rain}+q''_{conv}+q''_{rad,sky}-q''_{cond})\\;\\;\\;\\;\\;\\mathrm{Eq.\\;(1)}\n",
    "$$\n",
    "\n",
    "The cooling demand fluctuates over time:\n",
    "\n",
    "$$\n",
    "q''_{cool}(t)=\\begin{cases}\n",
    "\\frac{1}{R''_{tot}}(T_{s,up}(t)-T_{s,lower}) &\\text{if }T_{s,up}(t)\\geq T_{s,lower}\\\\\n",
    "0 & \\text{otherwise}\n",
    "\\end{cases}\n",
    "$$\n",
    "where $R''_{tot}=R''_{cond,ins}+R''_{cond,concrete}$.\n",
    "\n",
    "Note that the irradiation from the sun is only partly absorbed by the surface:\n",
    "$$\n",
    "q''_{sun}=\\alpha_{abs}I_{sun}(t)\\;,\n",
    "$$\n",
    "where $\\alpha_{abs}$ is the surface absorptivity ($0\\leq \\alpha_{abs}\\leq 1$, always) and $I_{sun}(t)$ is the measure irradiation from the sun.\n",
    "\n",
    "Applying conservation of energy then to the room, which is assumed to be at uniform temperature $T_{sp}$. This temperature is altered by natural convection on the vertical walls, heat input from the weather, and heat generation from people. The desired temperature is maintained by the cooling load, $q_{cool}$.\n",
    "\n",
    "The rate of change of the roof upper surface temperature is defined as:\n",
    "$$\n",
    "\\frac{dT_{s,up}}{dt} = (\\Sigma q_{weather}-\\frac{1}{R_{tot}}(T_{s,up}-T_{s,lower}))\\frac{1}{\\rho_0 Cp_0}\n",
    "$$\n",
    "where the subscript 0 denotes the properties of the roof material.\n",
    "The rate of change of the bottom surface of the roof, or the insulation if there is insulation is:\n",
    "$$\n",
    "\\frac{dT_{s,lower}}{dt} = (\\frac{1}{R_{tot}}(T_{s,up}-T_{s,lower}) - \\frac{Nu.k}{L_{ref}}(T_{s,lower}-T_{sp}))\\frac{1}{\\rho_r Cp_r}\n",
    "$$\n",
    "where the subsctipt r denotes the properties of the air inside the room, and $L_{ref}$ is the building length."
   ]
  },
  {
   "cell_type": "markdown",
   "metadata": {
    "datalore": {
     "hide_input_from_viewers": false,
     "hide_output_from_viewers": false,
     "type": "MD"
    }
   },
   "source": [
    "# Heat Transfer Value Derivations "
   ]
  },
  {
   "cell_type": "code",
   "execution_count": 18,
   "metadata": {
    "datalore": {
     "hide_input_from_viewers": false,
     "hide_output_from_viewers": false,
     "type": "CODE"
    }
   },
   "outputs": [
    {
     "ename": "IndentationError",
     "evalue": "IndentationError: unindent does not match any outer indentation level",
     "output_type": "error",
     "traceback": [
      "\u001b[0;31m---------------------------------------------------------------------------",
      "Traceback (most recent call last)",
      "IndentationError: unindent does not match any outer indentation level"
     ]
    }
   ],
   "source": [
    "import matplotlib\n",
    "from scipy.integrate import solve_ivp       \n",
    "alpha_s = 1.3 * 10**(-5) # Thermal Diffusivity of Concrete\n",
    "eps_sky = 1.\n",
    "\n",
    "# Dimensions of the roof are the same for the dimensions of the insulation layer\n",
    "L_roof = 16.863 # m Length of the Roof \n",
    "W_roof = 8.402 # m width of the roof\n",
    "A_roof = L_roof*W_roof # m^2 area of the roof\n",
    "H_room = 5 #m\n",
    "V_room = A_roof*H_room #m^3\n",
    "T_room = 20 #C  \n",
    "DT_room = 1 \n",
    "\n",
    "\n",
    "\n",
    "def f_room(t,T):\n",
    "    global L_roof,Rpp_tot,eps,f_U_atm,f_T_atm,f_q_sun,rho,C_p,alpha_s,f_CC,f_T_dp,T_sp,DT_sp\n",
    "    global V_room\n",
    "    dTdt = np.zeros(len(T))\n",
    "    # film temperature between ambient and upper surface\n",
    "    Tinf = T_atmospheric(t)\n",
    "    Uinf = U_atmospheric(t)\n",
    "    \n",
    "    T_f = (T[0]+Tinf)/2\n",
    "    air_f = thermo.Fluid('air',T_f,\"C\")\n",
    "    Tdp = dew_point(t)\n",
    "    cc = cloud_cover(t)\n",
    "    pr = rain_rate(t)\n",
    "    rh = relative_humidity(t)\n",
    "    \n",
    "    \n",
    "    qpp_sun = alpha_s*sun_irradiation(t)\n",
    "    \n",
    "    qpp_sky = skyradiation(Tdp,cc,Tinf,T[0]) #h_rad(T_s - T_sky)\n",
    "    \n",
    "    qpp_conv = outsideconvection(Uinf, T_f,Tinf, air_f,L_roof, T[0]) #h_conv_tot(T_s -T_inf)\n",
    "    \n",
    "    qpp_rain = rain(pr,Tinf,rh,T[0]) #h_rain(Twb - T_s)\n",
    "    \n",
    "    qpp_cond = 1/Rpp_tot*(T[0] - T[1])\n",
    "    \n",
    "    T_f_in = (T[1] + T[2])/2.\n",
    "    air_f_in = thermo.Fluid('air',T_f_in,\"C\")\n",
    "    qpp_conv_in = insideconvection(T_f_in, T[2], air_f_in, L_roof, T[1])\n",
    "    qpp_weather = qpp_sun + qpp_sky + qpp_conv + qpp_rain\n",
    "    qpp_total = qpp_weather - qpp_cond\n",
    "    dTdt[0] = qpp_total/(rho*C_p)\n",
    "    dTdt[1] = (qpp_cond - qpp_conv_in)/(air_f_in.rho*air_f_in.Cp)\n",
    "    air_room = thermo.Fluid('air',T[2],\"C\")\n",
    "\n",
    "    dTdt[2] = (qpp_conv_in*A + T[3]*q_hvac)/(air_room.rho*air_room.Cp*V_room)\n",
    "    if T[2] > T_room + DT_room:\n",
    "        if T[3] >= -1:\n",
    "            dTdt[3] = -1./T_hvac\n",
    "        print('dTdt')\n",
    "    elif T[2] < T_sp - DT_sp:\n",
    "        if T[3] <= 1.*heating_coef:\n",
    "            dTdt[3] = 1./T_hvac*heating_coef\n",
    "        print('dTdt')\n",
    "    return dTdt\n",
    "\n",
    "    \n",
    "#     q_cool_max = qpp_cond/.75\n",
    "#     T_hvac = 240 #s\n",
    "#     #this is a value of 4 minutes\n",
    " \n",
    "    \n",
    "#    global q_cool_max,T_hvac,V_room, qpp_cond\n",
    "\n",
    "#     #Need to define: q_hvac power delivered by hvac; V_room; insideconvection(...) function; DT_sp = 1"
   ]
  },
  {
   "cell_type": "markdown",
   "metadata": {
    "datalore": {
     "hide_input_from_viewers": false,
     "hide_output_from_viewers": false,
     "type": "MD"
    }
   },
   "source": [
    "## Thermal Circuit Representation"
   ]
  },
  {
   "cell_type": "code",
   "execution_count": 163,
   "metadata": {
    "datalore": {
     "hide_input_from_viewers": false,
     "hide_output_from_viewers": false,
     "type": "CODE"
    }
   },
   "outputs": [],
   "source": [
    "from Libraries import HT_natural_convection as natconv\n",
    "def insideconvection(T_film_in, T_room_avg, room_air, L_roof, T_ceiling):\n",
    "    room_air = thermo.Fluid('air',T_film_in, 'C')\n",
    "    Ra = natconv.Ra(beta=room_air.beta,DT=np.abs(T_ceiling-T_room_avg),D=L_roof,nu=room_air.nu,alpha=room_air.alpha)\n",
    "    roomflow = natconv.FlatPlate(Ra,room_air.Pr,'lower','hot')\n",
    "    return (T_film_in)"
   ]
  },
  {
   "cell_type": "markdown",
   "metadata": {
    "datalore": {
     "hide_input_from_viewers": false,
     "hide_output_from_viewers": false,
     "type": "MD"
    }
   },
   "source": [
    "* `T[0]` : Temperature of the surface of the roof exposed to the outside\n",
    "* `T[1]` : Temperature of the ceiling\n",
    "* `T[2]` : Average temperature of the room\n",
    "* `T[3]` : is NOT a temperature, it is a coefficient equal to 1 when heating is needed, -1 when cooling is needed and 0 when `T[2]` is between $T_{room}-\\Delta_{room}$ and $T_{room}+\\Delta_{room}$"
   ]
  },
  {
   "cell_type": "code",
   "execution_count": 164,
   "metadata": {
    "datalore": {
     "hide_input_from_viewers": false,
     "hide_output_from_viewers": false,
     "type": "CODE"
    }
   },
   "outputs": [
    {
     "data": {
      "image/svg+xml": [
       "<?xml version=\"1.0\" encoding=\"utf-8\" standalone=\"no\"?>\n",
       "<!DOCTYPE svg PUBLIC \"-//W3C//DTD SVG 1.1//EN\"\n",
       "  \"http://www.w3.org/Graphics/SVG/1.1/DTD/svg11.dtd\">\n",
       "<svg xmlns:xlink=\"http://www.w3.org/1999/xlink\" width=\"348.3888pt\" height=\"73.985pt\" viewBox=\"0 0 348.3888 73.985\" xmlns=\"http://www.w3.org/2000/svg\" version=\"1.1\">\n",
       " <metadata>\n",
       "  <rdf:RDF xmlns:dc=\"http://purl.org/dc/elements/1.1/\" xmlns:cc=\"http://creativecommons.org/ns#\" xmlns:rdf=\"http://www.w3.org/1999/02/22-rdf-syntax-ns#\">\n",
       "   <cc:Work>\n",
       "    <dc:type rdf:resource=\"http://purl.org/dc/dcmitype/StillImage\"/>\n",
       "    <dc:date>2022-05-09T17:13:11.619633</dc:date>\n",
       "    <dc:format>image/svg+xml</dc:format>\n",
       "    <dc:creator>\n",
       "     <cc:Agent>\n",
       "      <dc:title>Matplotlib v3.5.1, https://matplotlib.org/</dc:title>\n",
       "     </cc:Agent>\n",
       "    </dc:creator>\n",
       "   </cc:Work>\n",
       "  </rdf:RDF>\n",
       " </metadata>\n",
       " <defs>\n",
       "  <style type=\"text/css\">*{stroke-linejoin: round; stroke-linecap: butt}</style>\n",
       " </defs>\n",
       " <g id=\"figure_1\">\n",
       "  <g id=\"patch_1\">\n",
       "   <path d=\"M 0 73.985 \n",
       "L 348.3888 73.985 \n",
       "L 348.3888 0 \n",
       "L 0 0 \n",
       "L 0 73.985 \n",
       "z\n",
       "\" style=\"fill: none\"/>\n",
       "  </g>\n",
       "  <g id=\"axes_1\">\n",
       "   <g id=\"line2d_1\">\n",
       "    <path d=\"M 83.4756 42.73 \n",
       "L 114.0756 42.73 \n",
       "L 116.6256 35.08 \n",
       "L 121.7256 50.38 \n",
       "L 126.8256 35.08 \n",
       "L 131.9256 50.38 \n",
       "L 137.0256 35.08 \n",
       "L 142.1256 50.38 \n",
       "L 144.6756 42.73 \n",
       "L 175.2756 42.73 \n",
       "\" clip-path=\"url(#p4bbdb4c7d0)\" style=\"fill: none; stroke: #000000; stroke-width: 2; stroke-linecap: round\"/>\n",
       "   </g>\n",
       "   <g id=\"line2d_2\">\n",
       "    <path d=\"M 175.2756 42.73 \n",
       "L 205.8756 42.73 \n",
       "L 208.4256 35.08 \n",
       "L 213.5256 50.38 \n",
       "L 218.6256 35.08 \n",
       "L 223.7256 50.38 \n",
       "L 228.8256 35.08 \n",
       "L 233.9256 50.38 \n",
       "L 236.4756 42.73 \n",
       "L 267.0756 42.73 \n",
       "\" clip-path=\"url(#p4bbdb4c7d0)\" style=\"fill: none; stroke: #000000; stroke-width: 2; stroke-linecap: round\"/>\n",
       "   </g>\n",
       "   <g id=\"line2d_3\">\n",
       "    <path d=\"M 14.6256 42.73 \n",
       "L 45.2256 42.73 \n",
       "L 68.1756 42.73 \n",
       "\" clip-path=\"url(#p4bbdb4c7d0)\" style=\"fill: none; stroke: #000000; stroke-width: 2; stroke-linecap: round\"/>\n",
       "   </g>\n",
       "   <g id=\"patch_2\">\n",
       "    <path d=\"M 68.1756 40.435 \n",
       "L 75.8256 42.73 \n",
       "L 68.1756 45.025 \n",
       "z\n",
       "\" clip-path=\"url(#p4bbdb4c7d0)\"/>\n",
       "   </g>\n",
       "   <g id=\"line2d_4\">\n",
       "    <path d=\"M 274.7256 42.73 \n",
       "L 305.3256 42.73 \n",
       "L 328.2756 42.73 \n",
       "\" clip-path=\"url(#p4bbdb4c7d0)\" style=\"fill: none; stroke: #000000; stroke-width: 2; stroke-linecap: round\"/>\n",
       "   </g>\n",
       "   <g id=\"patch_3\">\n",
       "    <path d=\"M 328.2756 40.435 \n",
       "L 335.9256 42.73 \n",
       "L 328.2756 45.025 \n",
       "z\n",
       "\" clip-path=\"url(#p4bbdb4c7d0)\"/>\n",
       "   </g>\n",
       "   <g id=\"text_1\">\n",
       "    <g clip-path=\"url(#p4bbdb4c7d0)\">\n",
       "     <!-- $R''_{cond,ins}$ -->\n",
       "     <g transform=\"translate(102.6256 28.895)scale(0.125 -0.125)\">\n",
       "      <defs>\n",
       "       <path id=\"DejaVuSans-Oblique-52\" d=\"M 1613 4147 \n",
       "L 1294 2491 \n",
       "L 2106 2491 \n",
       "Q 2584 2491 2879 2755 \n",
       "Q 3175 3019 3175 3444 \n",
       "Q 3175 3784 2976 3965 \n",
       "Q 2778 4147 2406 4147 \n",
       "L 1613 4147 \n",
       "z\n",
       "M 2772 2241 \n",
       "Q 2972 2194 3105 2009 \n",
       "Q 3238 1825 3413 1275 \n",
       "L 3809 0 \n",
       "L 3144 0 \n",
       "L 2778 1197 \n",
       "Q 2638 1659 2453 1815 \n",
       "Q 2269 1972 1888 1972 \n",
       "L 1191 1972 \n",
       "L 806 0 \n",
       "L 172 0 \n",
       "L 1081 4666 \n",
       "L 2503 4666 \n",
       "Q 3150 4666 3495 4373 \n",
       "Q 3841 4081 3841 3531 \n",
       "Q 3841 3044 3547 2687 \n",
       "Q 3253 2331 2772 2241 \n",
       "z\n",
       "\" transform=\"scale(0.015625)\"/>\n",
       "       <path id=\"Cmsy10-30\" d=\"M 225 347 \n",
       "Q 184 359 184 409 \n",
       "L 966 3316 \n",
       "Q 1003 3434 1093 3506 \n",
       "Q 1184 3578 1300 3578 \n",
       "Q 1450 3578 1564 3479 \n",
       "Q 1678 3381 1678 3231 \n",
       "Q 1678 3166 1644 3084 \n",
       "L 488 319 \n",
       "Q 466 275 428 275 \n",
       "Q 394 275 320 306 \n",
       "Q 247 338 225 347 \n",
       "z\n",
       "\" transform=\"scale(0.015625)\"/>\n",
       "       <path id=\"DejaVuSans-Oblique-63\" d=\"M 3431 3366 \n",
       "L 3316 2797 \n",
       "Q 3109 2947 2876 3022 \n",
       "Q 2644 3097 2394 3097 \n",
       "Q 2119 3097 1870 3000 \n",
       "Q 1622 2903 1453 2725 \n",
       "Q 1184 2453 1037 2087 \n",
       "Q 891 1722 891 1331 \n",
       "Q 891 859 1127 628 \n",
       "Q 1363 397 1844 397 \n",
       "Q 2081 397 2348 469 \n",
       "Q 2616 541 2906 684 \n",
       "L 2797 116 \n",
       "Q 2547 13 2283 -39 \n",
       "Q 2019 -91 1741 -91 \n",
       "Q 1044 -91 669 257 \n",
       "Q 294 606 294 1253 \n",
       "Q 294 1797 489 2255 \n",
       "Q 684 2713 1069 3078 \n",
       "Q 1331 3328 1684 3456 \n",
       "Q 2038 3584 2456 3584 \n",
       "Q 2700 3584 2940 3529 \n",
       "Q 3181 3475 3431 3366 \n",
       "z\n",
       "\" transform=\"scale(0.015625)\"/>\n",
       "       <path id=\"DejaVuSans-Oblique-6f\" d=\"M 1625 -91 \n",
       "Q 1009 -91 651 289 \n",
       "Q 294 669 294 1325 \n",
       "Q 294 1706 417 2101 \n",
       "Q 541 2497 738 2766 \n",
       "Q 1047 3184 1428 3384 \n",
       "Q 1809 3584 2291 3584 \n",
       "Q 2888 3584 3255 3212 \n",
       "Q 3622 2841 3622 2241 \n",
       "Q 3622 1825 3500 1412 \n",
       "Q 3378 1000 3181 728 \n",
       "Q 2875 309 2494 109 \n",
       "Q 2113 -91 1625 -91 \n",
       "z\n",
       "M 891 1344 \n",
       "Q 891 869 1089 633 \n",
       "Q 1288 397 1691 397 \n",
       "Q 2269 397 2648 901 \n",
       "Q 3028 1406 3028 2181 \n",
       "Q 3028 2634 2825 2865 \n",
       "Q 2622 3097 2228 3097 \n",
       "Q 1903 3097 1650 2945 \n",
       "Q 1397 2794 1197 2484 \n",
       "Q 1050 2253 970 1956 \n",
       "Q 891 1659 891 1344 \n",
       "z\n",
       "\" transform=\"scale(0.015625)\"/>\n",
       "       <path id=\"DejaVuSans-Oblique-6e\" d=\"M 3566 2113 \n",
       "L 3156 0 \n",
       "L 2578 0 \n",
       "L 2988 2091 \n",
       "Q 3016 2238 3031 2350 \n",
       "Q 3047 2463 3047 2528 \n",
       "Q 3047 2791 2881 2937 \n",
       "Q 2716 3084 2419 3084 \n",
       "Q 1956 3084 1622 2776 \n",
       "Q 1288 2469 1184 1941 \n",
       "L 800 0 \n",
       "L 225 0 \n",
       "L 903 3500 \n",
       "L 1478 3500 \n",
       "L 1363 2950 \n",
       "Q 1603 3253 1940 3418 \n",
       "Q 2278 3584 2650 3584 \n",
       "Q 3113 3584 3367 3334 \n",
       "Q 3622 3084 3622 2631 \n",
       "Q 3622 2519 3608 2391 \n",
       "Q 3594 2263 3566 2113 \n",
       "z\n",
       "\" transform=\"scale(0.015625)\"/>\n",
       "       <path id=\"DejaVuSans-Oblique-64\" d=\"M 2675 525 \n",
       "Q 2444 222 2128 65 \n",
       "Q 1813 -91 1428 -91 \n",
       "Q 903 -91 598 267 \n",
       "Q 294 625 294 1247 \n",
       "Q 294 1766 478 2236 \n",
       "Q 663 2706 1013 3078 \n",
       "Q 1244 3325 1534 3454 \n",
       "Q 1825 3584 2144 3584 \n",
       "Q 2481 3584 2739 3421 \n",
       "Q 2997 3259 3138 2956 \n",
       "L 3513 4863 \n",
       "L 4091 4863 \n",
       "L 3144 0 \n",
       "L 2566 0 \n",
       "L 2675 525 \n",
       "z\n",
       "M 891 1350 \n",
       "Q 891 897 1095 644 \n",
       "Q 1300 391 1663 391 \n",
       "Q 1931 391 2161 520 \n",
       "Q 2391 650 2566 903 \n",
       "Q 2750 1166 2856 1509 \n",
       "Q 2963 1853 2963 2188 \n",
       "Q 2963 2622 2758 2865 \n",
       "Q 2553 3109 2194 3109 \n",
       "Q 1922 3109 1687 2981 \n",
       "Q 1453 2853 1288 2613 \n",
       "Q 1106 2353 998 2009 \n",
       "Q 891 1666 891 1350 \n",
       "z\n",
       "\" transform=\"scale(0.015625)\"/>\n",
       "       <path id=\"DejaVuSans-2c\" d=\"M 750 794 \n",
       "L 1409 794 \n",
       "L 1409 256 \n",
       "L 897 -744 \n",
       "L 494 -744 \n",
       "L 750 256 \n",
       "L 750 794 \n",
       "z\n",
       "\" transform=\"scale(0.015625)\"/>\n",
       "       <path id=\"DejaVuSans-Oblique-69\" d=\"M 1172 4863 \n",
       "L 1747 4863 \n",
       "L 1606 4134 \n",
       "L 1031 4134 \n",
       "L 1172 4863 \n",
       "z\n",
       "M 909 3500 \n",
       "L 1484 3500 \n",
       "L 800 0 \n",
       "L 225 0 \n",
       "L 909 3500 \n",
       "z\n",
       "\" transform=\"scale(0.015625)\"/>\n",
       "       <path id=\"DejaVuSans-Oblique-73\" d=\"M 3200 3397 \n",
       "L 3091 2853 \n",
       "Q 2863 2978 2609 3040 \n",
       "Q 2356 3103 2088 3103 \n",
       "Q 1634 3103 1373 2948 \n",
       "Q 1113 2794 1113 2528 \n",
       "Q 1113 2219 1719 2053 \n",
       "Q 1766 2041 1788 2034 \n",
       "L 1972 1978 \n",
       "Q 2547 1819 2739 1644 \n",
       "Q 2931 1469 2931 1166 \n",
       "Q 2931 609 2489 259 \n",
       "Q 2047 -91 1331 -91 \n",
       "Q 1053 -91 747 -37 \n",
       "Q 441 16 72 128 \n",
       "L 184 722 \n",
       "Q 500 559 806 475 \n",
       "Q 1113 391 1394 391 \n",
       "Q 1816 391 2080 572 \n",
       "Q 2344 753 2344 1031 \n",
       "Q 2344 1331 1650 1516 \n",
       "L 1591 1531 \n",
       "L 1394 1581 \n",
       "Q 956 1697 753 1886 \n",
       "Q 550 2075 550 2369 \n",
       "Q 550 2928 970 3256 \n",
       "Q 1391 3584 2113 3584 \n",
       "Q 2397 3584 2667 3537 \n",
       "Q 2938 3491 3200 3397 \n",
       "z\n",
       "\" transform=\"scale(0.015625)\"/>\n",
       "      </defs>\n",
       "      <use xlink:href=\"#DejaVuSans-Oblique-52\" transform=\"translate(0 0.584375)\"/>\n",
       "      <use xlink:href=\"#Cmsy10-30\" transform=\"translate(76.499193 38.865625)scale(0.7)\"/>\n",
       "      <use xlink:href=\"#Cmsy10-30\" transform=\"translate(95.742357 38.865625)scale(0.7)\"/>\n",
       "      <use xlink:href=\"#DejaVuSans-Oblique-63\" transform=\"translate(118.676927 -15.821875)scale(0.7)\"/>\n",
       "      <use xlink:href=\"#DejaVuSans-Oblique-6f\" transform=\"translate(157.163255 -15.821875)scale(0.7)\"/>\n",
       "      <use xlink:href=\"#DejaVuSans-Oblique-6e\" transform=\"translate(199.990404 -15.821875)scale(0.7)\"/>\n",
       "      <use xlink:href=\"#DejaVuSans-Oblique-64\" transform=\"translate(244.355638 -15.821875)scale(0.7)\"/>\n",
       "      <use xlink:href=\"#DejaVuSans-2c\" transform=\"translate(288.789232 -15.821875)scale(0.7)\"/>\n",
       "      <use xlink:href=\"#DejaVuSans-Oblique-69\" transform=\"translate(324.677904 -15.821875)scale(0.7)\"/>\n",
       "      <use xlink:href=\"#DejaVuSans-Oblique-6e\" transform=\"translate(344.126146 -15.821875)scale(0.7)\"/>\n",
       "      <use xlink:href=\"#DejaVuSans-Oblique-73\" transform=\"translate(388.49138 -15.821875)scale(0.7)\"/>\n",
       "     </g>\n",
       "    </g>\n",
       "   </g>\n",
       "   <g id=\"text_2\">\n",
       "    <g clip-path=\"url(#p4bbdb4c7d0)\">\n",
       "     <!-- $R''_{cond,conc}$ -->\n",
       "     <g transform=\"translate(190.4256 28.895)scale(0.125 -0.125)\">\n",
       "      <use xlink:href=\"#DejaVuSans-Oblique-52\" transform=\"translate(0 0.584375)\"/>\n",
       "      <use xlink:href=\"#Cmsy10-30\" transform=\"translate(76.499193 38.865625)scale(0.7)\"/>\n",
       "      <use xlink:href=\"#Cmsy10-30\" transform=\"translate(95.742357 38.865625)scale(0.7)\"/>\n",
       "      <use xlink:href=\"#DejaVuSans-Oblique-63\" transform=\"translate(118.676927 -15.821875)scale(0.7)\"/>\n",
       "      <use xlink:href=\"#DejaVuSans-Oblique-6f\" transform=\"translate(157.163255 -15.821875)scale(0.7)\"/>\n",
       "      <use xlink:href=\"#DejaVuSans-Oblique-6e\" transform=\"translate(199.990404 -15.821875)scale(0.7)\"/>\n",
       "      <use xlink:href=\"#DejaVuSans-Oblique-64\" transform=\"translate(244.355638 -15.821875)scale(0.7)\"/>\n",
       "      <use xlink:href=\"#DejaVuSans-2c\" transform=\"translate(288.789232 -15.821875)scale(0.7)\"/>\n",
       "      <use xlink:href=\"#DejaVuSans-Oblique-63\" transform=\"translate(324.677904 -15.821875)scale(0.7)\"/>\n",
       "      <use xlink:href=\"#DejaVuSans-Oblique-6f\" transform=\"translate(363.164232 -15.821875)scale(0.7)\"/>\n",
       "      <use xlink:href=\"#DejaVuSans-Oblique-6e\" transform=\"translate(405.99138 -15.821875)scale(0.7)\"/>\n",
       "      <use xlink:href=\"#DejaVuSans-Oblique-63\" transform=\"translate(450.356615 -15.821875)scale(0.7)\"/>\n",
       "     </g>\n",
       "    </g>\n",
       "   </g>\n",
       "   <g id=\"text_3\">\n",
       "    <g clip-path=\"url(#p4bbdb4c7d0)\">\n",
       "     <!-- $q''_{weather}$ -->\n",
       "     <g transform=\"translate(20.2256 37.045)scale(0.125 -0.125)\">\n",
       "      <defs>\n",
       "       <path id=\"DejaVuSans-Oblique-71\" d=\"M 2669 525 \n",
       "Q 2438 222 2123 65 \n",
       "Q 1809 -91 1428 -91 \n",
       "Q 897 -91 595 267 \n",
       "Q 294 625 294 1253 \n",
       "Q 294 1759 480 2231 \n",
       "Q 666 2703 1013 3078 \n",
       "Q 1238 3322 1530 3453 \n",
       "Q 1822 3584 2144 3584 \n",
       "Q 2531 3584 2781 3431 \n",
       "Q 3031 3278 3144 2969 \n",
       "L 3244 3494 \n",
       "L 3822 3494 \n",
       "L 2888 -1319 \n",
       "L 2309 -1319 \n",
       "L 2669 525 \n",
       "z\n",
       "M 891 1338 \n",
       "Q 891 875 1084 633 \n",
       "Q 1278 391 1644 391 \n",
       "Q 2188 391 2572 911 \n",
       "Q 2956 1431 2956 2175 \n",
       "Q 2956 2625 2757 2864 \n",
       "Q 2559 3103 2188 3103 \n",
       "Q 1916 3103 1684 2976 \n",
       "Q 1453 2850 1281 2606 \n",
       "Q 1100 2350 995 2006 \n",
       "Q 891 1663 891 1338 \n",
       "z\n",
       "\" transform=\"scale(0.015625)\"/>\n",
       "       <path id=\"DejaVuSans-Oblique-77\" d=\"M 544 3500 \n",
       "L 1113 3500 \n",
       "L 1259 684 \n",
       "L 2566 3500 \n",
       "L 3231 3500 \n",
       "L 3425 684 \n",
       "L 4666 3500 \n",
       "L 5241 3500 \n",
       "L 3641 0 \n",
       "L 2969 0 \n",
       "L 2797 2900 \n",
       "L 1459 0 \n",
       "L 781 0 \n",
       "L 544 3500 \n",
       "z\n",
       "\" transform=\"scale(0.015625)\"/>\n",
       "       <path id=\"DejaVuSans-Oblique-65\" d=\"M 3078 2063 \n",
       "Q 3088 2113 3092 2166 \n",
       "Q 3097 2219 3097 2272 \n",
       "Q 3097 2653 2873 2875 \n",
       "Q 2650 3097 2266 3097 \n",
       "Q 1838 3097 1509 2826 \n",
       "Q 1181 2556 1013 2059 \n",
       "L 3078 2063 \n",
       "z\n",
       "M 3578 1613 \n",
       "L 903 1613 \n",
       "Q 884 1494 878 1425 \n",
       "Q 872 1356 872 1306 \n",
       "Q 872 872 1139 634 \n",
       "Q 1406 397 1894 397 \n",
       "Q 2269 397 2603 481 \n",
       "Q 2938 566 3225 728 \n",
       "L 3116 159 \n",
       "Q 2806 34 2476 -28 \n",
       "Q 2147 -91 1806 -91 \n",
       "Q 1078 -91 686 257 \n",
       "Q 294 606 294 1247 \n",
       "Q 294 1794 489 2264 \n",
       "Q 684 2734 1063 3103 \n",
       "Q 1306 3334 1642 3459 \n",
       "Q 1978 3584 2356 3584 \n",
       "Q 2950 3584 3301 3228 \n",
       "Q 3653 2872 3653 2272 \n",
       "Q 3653 2128 3634 1964 \n",
       "Q 3616 1800 3578 1613 \n",
       "z\n",
       "\" transform=\"scale(0.015625)\"/>\n",
       "       <path id=\"DejaVuSans-Oblique-61\" d=\"M 3438 1997 \n",
       "L 3047 0 \n",
       "L 2472 0 \n",
       "L 2578 531 \n",
       "Q 2325 219 2001 64 \n",
       "Q 1678 -91 1281 -91 \n",
       "Q 834 -91 548 182 \n",
       "Q 263 456 263 884 \n",
       "Q 263 1497 752 1853 \n",
       "Q 1241 2209 2100 2209 \n",
       "L 2900 2209 \n",
       "L 2931 2363 \n",
       "Q 2938 2388 2941 2417 \n",
       "Q 2944 2447 2944 2509 \n",
       "Q 2944 2788 2717 2942 \n",
       "Q 2491 3097 2081 3097 \n",
       "Q 1800 3097 1504 3025 \n",
       "Q 1209 2953 897 2809 \n",
       "L 997 3341 \n",
       "Q 1322 3463 1633 3523 \n",
       "Q 1944 3584 2234 3584 \n",
       "Q 2853 3584 3176 3315 \n",
       "Q 3500 3047 3500 2534 \n",
       "Q 3500 2431 3484 2292 \n",
       "Q 3469 2153 3438 1997 \n",
       "z\n",
       "M 2816 1759 \n",
       "L 2241 1759 \n",
       "Q 1534 1759 1195 1570 \n",
       "Q 856 1381 856 984 \n",
       "Q 856 709 1029 553 \n",
       "Q 1203 397 1509 397 \n",
       "Q 1978 397 2328 733 \n",
       "Q 2678 1069 2791 1631 \n",
       "L 2816 1759 \n",
       "z\n",
       "\" transform=\"scale(0.015625)\"/>\n",
       "       <path id=\"DejaVuSans-Oblique-74\" d=\"M 2706 3500 \n",
       "L 2619 3053 \n",
       "L 1472 3053 \n",
       "L 1100 1153 \n",
       "Q 1081 1047 1072 975 \n",
       "Q 1063 903 1063 863 \n",
       "Q 1063 663 1183 572 \n",
       "Q 1303 481 1569 481 \n",
       "L 2150 481 \n",
       "L 2053 0 \n",
       "L 1503 0 \n",
       "Q 991 0 739 200 \n",
       "Q 488 400 488 806 \n",
       "Q 488 878 497 964 \n",
       "Q 506 1050 525 1153 \n",
       "L 897 3053 \n",
       "L 409 3053 \n",
       "L 500 3500 \n",
       "L 978 3500 \n",
       "L 1172 4494 \n",
       "L 1747 4494 \n",
       "L 1556 3500 \n",
       "L 2706 3500 \n",
       "z\n",
       "\" transform=\"scale(0.015625)\"/>\n",
       "       <path id=\"DejaVuSans-Oblique-68\" d=\"M 3566 2113 \n",
       "L 3156 0 \n",
       "L 2578 0 \n",
       "L 2988 2091 \n",
       "Q 3016 2238 3031 2350 \n",
       "Q 3047 2463 3047 2528 \n",
       "Q 3047 2791 2881 2937 \n",
       "Q 2716 3084 2419 3084 \n",
       "Q 1956 3084 1617 2771 \n",
       "Q 1278 2459 1178 1941 \n",
       "L 800 0 \n",
       "L 225 0 \n",
       "L 1172 4863 \n",
       "L 1747 4863 \n",
       "L 1375 2950 \n",
       "Q 1594 3244 1934 3414 \n",
       "Q 2275 3584 2650 3584 \n",
       "Q 3113 3584 3367 3334 \n",
       "Q 3622 3084 3622 2631 \n",
       "Q 3622 2519 3608 2391 \n",
       "Q 3594 2263 3566 2113 \n",
       "z\n",
       "\" transform=\"scale(0.015625)\"/>\n",
       "       <path id=\"DejaVuSans-Oblique-72\" d=\"M 2853 2969 \n",
       "Q 2766 3016 2653 3041 \n",
       "Q 2541 3066 2413 3066 \n",
       "Q 1953 3066 1609 2717 \n",
       "Q 1266 2369 1153 1784 \n",
       "L 800 0 \n",
       "L 225 0 \n",
       "L 909 3500 \n",
       "L 1484 3500 \n",
       "L 1375 2956 \n",
       "Q 1603 3259 1920 3421 \n",
       "Q 2238 3584 2597 3584 \n",
       "Q 2691 3584 2781 3573 \n",
       "Q 2872 3563 2963 3538 \n",
       "L 2853 2969 \n",
       "z\n",
       "\" transform=\"scale(0.015625)\"/>\n",
       "      </defs>\n",
       "      <use xlink:href=\"#DejaVuSans-Oblique-71\" transform=\"translate(0 0.584375)\"/>\n",
       "      <use xlink:href=\"#Cmsy10-30\" transform=\"translate(68.126458 38.865625)scale(0.7)\"/>\n",
       "      <use xlink:href=\"#Cmsy10-30\" transform=\"translate(87.369622 38.865625)scale(0.7)\"/>\n",
       "      <use xlink:href=\"#DejaVuSans-Oblique-77\" transform=\"translate(110.304193 -15.821875)scale(0.7)\"/>\n",
       "      <use xlink:href=\"#DejaVuSans-Oblique-65\" transform=\"translate(167.555169 -15.821875)scale(0.7)\"/>\n",
       "      <use xlink:href=\"#DejaVuSans-Oblique-61\" transform=\"translate(210.621576 -15.821875)scale(0.7)\"/>\n",
       "      <use xlink:href=\"#DejaVuSans-Oblique-74\" transform=\"translate(253.517083 -15.821875)scale(0.7)\"/>\n",
       "      <use xlink:href=\"#DejaVuSans-Oblique-68\" transform=\"translate(280.963372 -15.821875)scale(0.7)\"/>\n",
       "      <use xlink:href=\"#DejaVuSans-Oblique-65\" transform=\"translate(325.328607 -15.821875)scale(0.7)\"/>\n",
       "      <use xlink:href=\"#DejaVuSans-Oblique-72\" transform=\"translate(368.395013 -15.821875)scale(0.7)\"/>\n",
       "     </g>\n",
       "    </g>\n",
       "   </g>\n",
       "   <g id=\"text_4\">\n",
       "    <g clip-path=\"url(#p4bbdb4c7d0)\">\n",
       "     <!-- $q''_{cond}$ -->\n",
       "     <g transform=\"translate(287.5756 37.045)scale(0.125 -0.125)\">\n",
       "      <use xlink:href=\"#DejaVuSans-Oblique-71\" transform=\"translate(0 0.584375)\"/>\n",
       "      <use xlink:href=\"#Cmsy10-30\" transform=\"translate(68.126458 38.865625)scale(0.7)\"/>\n",
       "      <use xlink:href=\"#Cmsy10-30\" transform=\"translate(87.369622 38.865625)scale(0.7)\"/>\n",
       "      <use xlink:href=\"#DejaVuSans-Oblique-63\" transform=\"translate(110.304193 -15.821875)scale(0.7)\"/>\n",
       "      <use xlink:href=\"#DejaVuSans-Oblique-6f\" transform=\"translate(148.790521 -15.821875)scale(0.7)\"/>\n",
       "      <use xlink:href=\"#DejaVuSans-Oblique-6e\" transform=\"translate(191.617669 -15.821875)scale(0.7)\"/>\n",
       "      <use xlink:href=\"#DejaVuSans-Oblique-64\" transform=\"translate(235.982904 -15.821875)scale(0.7)\"/>\n",
       "     </g>\n",
       "    </g>\n",
       "   </g>\n",
       "   <g id=\"patch_4\">\n",
       "    <path d=\"M 83.4756 45.025 \n",
       "C 84.084241 45.025 84.668036 44.783184 85.09841 44.35281 \n",
       "C 85.528784 43.922436 85.7706 43.338641 85.7706 42.73 \n",
       "C 85.7706 42.121359 85.528784 41.537564 85.09841 41.10719 \n",
       "C 84.668036 40.676816 84.084241 40.435 83.4756 40.435 \n",
       "C 82.866959 40.435 82.283164 40.676816 81.85279 41.10719 \n",
       "C 81.422416 41.537564 81.1806 42.121359 81.1806 42.73 \n",
       "C 81.1806 43.338641 81.422416 43.922436 81.85279 44.35281 \n",
       "C 82.283164 44.783184 82.866959 45.025 83.4756 45.025 \n",
       "z\n",
       "\" clip-path=\"url(#p4bbdb4c7d0)\" style=\"stroke: #000000; stroke-width: 2; stroke-linejoin: miter\"/>\n",
       "   </g>\n",
       "   <g id=\"text_5\">\n",
       "    <g clip-path=\"url(#p4bbdb4c7d0)\">\n",
       "     <!-- $T_{s,upper}$ -->\n",
       "     <g transform=\"translate(62.1006 57.21)scale(0.125 -0.125)\">\n",
       "      <defs>\n",
       "       <path id=\"DejaVuSans-Oblique-54\" d=\"M 378 4666 \n",
       "L 4325 4666 \n",
       "L 4225 4134 \n",
       "L 2559 4134 \n",
       "L 1759 0 \n",
       "L 1125 0 \n",
       "L 1925 4134 \n",
       "L 275 4134 \n",
       "L 378 4666 \n",
       "z\n",
       "\" transform=\"scale(0.015625)\"/>\n",
       "       <path id=\"DejaVuSans-Oblique-75\" d=\"M 428 1388 \n",
       "L 838 3500 \n",
       "L 1416 3500 \n",
       "L 1006 1409 \n",
       "Q 975 1256 961 1147 \n",
       "Q 947 1038 947 966 \n",
       "Q 947 700 1109 554 \n",
       "Q 1272 409 1569 409 \n",
       "Q 2031 409 2368 721 \n",
       "Q 2706 1034 2809 1563 \n",
       "L 3194 3500 \n",
       "L 3769 3500 \n",
       "L 3091 0 \n",
       "L 2516 0 \n",
       "L 2631 550 \n",
       "Q 2388 244 2052 76 \n",
       "Q 1716 -91 1338 -91 \n",
       "Q 878 -91 622 161 \n",
       "Q 366 413 366 863 \n",
       "Q 366 956 381 1097 \n",
       "Q 397 1238 428 1388 \n",
       "z\n",
       "\" transform=\"scale(0.015625)\"/>\n",
       "       <path id=\"DejaVuSans-Oblique-70\" d=\"M 3175 2156 \n",
       "Q 3175 2616 2975 2859 \n",
       "Q 2775 3103 2400 3103 \n",
       "Q 2144 3103 1911 2972 \n",
       "Q 1678 2841 1497 2591 \n",
       "Q 1319 2344 1212 1994 \n",
       "Q 1106 1644 1106 1300 \n",
       "Q 1106 863 1306 627 \n",
       "Q 1506 391 1875 391 \n",
       "Q 2147 391 2380 519 \n",
       "Q 2613 647 2778 891 \n",
       "Q 2956 1147 3065 1494 \n",
       "Q 3175 1841 3175 2156 \n",
       "z\n",
       "M 1394 2969 \n",
       "Q 1625 3272 1939 3428 \n",
       "Q 2253 3584 2638 3584 \n",
       "Q 3175 3584 3472 3232 \n",
       "Q 3769 2881 3769 2247 \n",
       "Q 3769 1728 3584 1258 \n",
       "Q 3400 788 3053 416 \n",
       "Q 2822 169 2531 39 \n",
       "Q 2241 -91 1919 -91 \n",
       "Q 1547 -91 1294 64 \n",
       "Q 1041 219 916 525 \n",
       "L 556 -1331 \n",
       "L -19 -1331 \n",
       "L 922 3500 \n",
       "L 1497 3500 \n",
       "L 1394 2969 \n",
       "z\n",
       "\" transform=\"scale(0.015625)\"/>\n",
       "      </defs>\n",
       "      <use xlink:href=\"#DejaVuSans-Oblique-54\" transform=\"translate(0 0.09375)\"/>\n",
       "      <use xlink:href=\"#DejaVuSans-Oblique-73\" transform=\"translate(61.083984 -16.3125)scale(0.7)\"/>\n",
       "      <use xlink:href=\"#DejaVuSans-2c\" transform=\"translate(97.553711 -16.3125)scale(0.7)\"/>\n",
       "      <use xlink:href=\"#DejaVuSans-Oblique-75\" transform=\"translate(133.442383 -16.3125)scale(0.7)\"/>\n",
       "      <use xlink:href=\"#DejaVuSans-Oblique-70\" transform=\"translate(177.807617 -16.3125)scale(0.7)\"/>\n",
       "      <use xlink:href=\"#DejaVuSans-Oblique-70\" transform=\"translate(222.241211 -16.3125)scale(0.7)\"/>\n",
       "      <use xlink:href=\"#DejaVuSans-Oblique-65\" transform=\"translate(266.674805 -16.3125)scale(0.7)\"/>\n",
       "      <use xlink:href=\"#DejaVuSans-Oblique-72\" transform=\"translate(309.741211 -16.3125)scale(0.7)\"/>\n",
       "     </g>\n",
       "    </g>\n",
       "   </g>\n",
       "   <g id=\"patch_5\">\n",
       "    <path d=\"M 175.2756 45.025 \n",
       "C 175.884241 45.025 176.468036 44.783184 176.89841 44.35281 \n",
       "C 177.328784 43.922436 177.5706 43.338641 177.5706 42.73 \n",
       "C 177.5706 42.121359 177.328784 41.537564 176.89841 41.10719 \n",
       "C 176.468036 40.676816 175.884241 40.435 175.2756 40.435 \n",
       "C 174.666959 40.435 174.083164 40.676816 173.65279 41.10719 \n",
       "C 173.222416 41.537564 172.9806 42.121359 172.9806 42.73 \n",
       "C 172.9806 43.338641 173.222416 43.922436 173.65279 44.35281 \n",
       "C 174.083164 44.783184 174.666959 45.025 175.2756 45.025 \n",
       "z\n",
       "\" clip-path=\"url(#p4bbdb4c7d0)\" style=\"stroke: #000000; stroke-width: 2; stroke-linejoin: miter\"/>\n",
       "   </g>\n",
       "   <g id=\"text_6\">\n",
       "    <g clip-path=\"url(#p4bbdb4c7d0)\">\n",
       "     <!-- $T_{mid}$ -->\n",
       "     <g transform=\"translate(163.0256 57.583047)scale(0.125 -0.125)\">\n",
       "      <defs>\n",
       "       <path id=\"DejaVuSans-Oblique-6d\" d=\"M 5747 2113 \n",
       "L 5338 0 \n",
       "L 4763 0 \n",
       "L 5166 2094 \n",
       "Q 5191 2228 5203 2325 \n",
       "Q 5216 2422 5216 2491 \n",
       "Q 5216 2772 5059 2928 \n",
       "Q 4903 3084 4622 3084 \n",
       "Q 4203 3084 3875 2770 \n",
       "Q 3547 2456 3450 1953 \n",
       "L 3066 0 \n",
       "L 2491 0 \n",
       "L 2900 2094 \n",
       "Q 2925 2209 2937 2307 \n",
       "Q 2950 2406 2950 2484 \n",
       "Q 2950 2769 2794 2926 \n",
       "Q 2638 3084 2363 3084 \n",
       "Q 1938 3084 1609 2770 \n",
       "Q 1281 2456 1184 1953 \n",
       "L 800 0 \n",
       "L 225 0 \n",
       "L 909 3500 \n",
       "L 1484 3500 \n",
       "L 1375 2956 \n",
       "Q 1609 3263 1923 3423 \n",
       "Q 2238 3584 2597 3584 \n",
       "Q 2978 3584 3223 3384 \n",
       "Q 3469 3184 3519 2828 \n",
       "Q 3781 3197 4126 3390 \n",
       "Q 4472 3584 4856 3584 \n",
       "Q 5306 3584 5551 3325 \n",
       "Q 5797 3066 5797 2591 \n",
       "Q 5797 2488 5784 2364 \n",
       "Q 5772 2241 5747 2113 \n",
       "z\n",
       "\" transform=\"scale(0.015625)\"/>\n",
       "      </defs>\n",
       "      <use xlink:href=\"#DejaVuSans-Oblique-54\" transform=\"translate(0 0.09375)\"/>\n",
       "      <use xlink:href=\"#DejaVuSans-Oblique-6d\" transform=\"translate(61.083984 -16.3125)scale(0.7)\"/>\n",
       "      <use xlink:href=\"#DejaVuSans-Oblique-69\" transform=\"translate(129.272461 -16.3125)scale(0.7)\"/>\n",
       "      <use xlink:href=\"#DejaVuSans-Oblique-64\" transform=\"translate(148.720703 -16.3125)scale(0.7)\"/>\n",
       "     </g>\n",
       "    </g>\n",
       "   </g>\n",
       "   <g id=\"patch_6\">\n",
       "    <path d=\"M 267.0756 45.025 \n",
       "C 267.684241 45.025 268.268036 44.783184 268.69841 44.35281 \n",
       "C 269.128784 43.922436 269.3706 43.338641 269.3706 42.73 \n",
       "C 269.3706 42.121359 269.128784 41.537564 268.69841 41.10719 \n",
       "C 268.268036 40.676816 267.684241 40.435 267.0756 40.435 \n",
       "C 266.466959 40.435 265.883164 40.676816 265.45279 41.10719 \n",
       "C 265.022416 41.537564 264.7806 42.121359 264.7806 42.73 \n",
       "C 264.7806 43.338641 265.022416 43.922436 265.45279 44.35281 \n",
       "C 265.883164 44.783184 266.466959 45.025 267.0756 45.025 \n",
       "z\n",
       "\" clip-path=\"url(#p4bbdb4c7d0)\" style=\"stroke: #000000; stroke-width: 2; stroke-linejoin: miter\"/>\n",
       "   </g>\n",
       "   <g id=\"text_7\">\n",
       "    <g clip-path=\"url(#p4bbdb4c7d0)\">\n",
       "     <!-- $T_{s,lower}$ -->\n",
       "     <g transform=\"translate(246.5756 57.21)scale(0.125 -0.125)\">\n",
       "      <defs>\n",
       "       <path id=\"DejaVuSans-Oblique-6c\" d=\"M 1172 4863 \n",
       "L 1747 4863 \n",
       "L 800 0 \n",
       "L 225 0 \n",
       "L 1172 4863 \n",
       "z\n",
       "\" transform=\"scale(0.015625)\"/>\n",
       "      </defs>\n",
       "      <use xlink:href=\"#DejaVuSans-Oblique-54\" transform=\"translate(0 0.09375)\"/>\n",
       "      <use xlink:href=\"#DejaVuSans-Oblique-73\" transform=\"translate(61.083984 -16.3125)scale(0.7)\"/>\n",
       "      <use xlink:href=\"#DejaVuSans-2c\" transform=\"translate(97.553711 -16.3125)scale(0.7)\"/>\n",
       "      <use xlink:href=\"#DejaVuSans-Oblique-6c\" transform=\"translate(133.442383 -16.3125)scale(0.7)\"/>\n",
       "      <use xlink:href=\"#DejaVuSans-Oblique-6f\" transform=\"translate(152.890625 -16.3125)scale(0.7)\"/>\n",
       "      <use xlink:href=\"#DejaVuSans-Oblique-77\" transform=\"translate(195.717773 -16.3125)scale(0.7)\"/>\n",
       "      <use xlink:href=\"#DejaVuSans-Oblique-65\" transform=\"translate(252.96875 -16.3125)scale(0.7)\"/>\n",
       "      <use xlink:href=\"#DejaVuSans-Oblique-72\" transform=\"translate(296.035156 -16.3125)scale(0.7)\"/>\n",
       "     </g>\n",
       "    </g>\n",
       "   </g>\n",
       "  </g>\n",
       " </g>\n",
       " <defs>\n",
       "  <clipPath id=\"p4bbdb4c7d0\">\n",
       "   <rect x=\"7.2\" y=\"7.2\" width=\"333.9888\" height=\"59.585\"/>\n",
       "  </clipPath>\n",
       " </defs>\n",
       "</svg>\n"
      ]
     },
     "metadata": {},
     "output_type": "display_data"
    }
   ],
   "source": [
    "air_room = thermo.Fluid('air',T_sp,\"C\")\n",
    "rho_conc = 2400.  #kg/m^3\n",
    "rho_room = air_room.rho #kg/m^3, room air density\n",
    "rho_insulation = 0.00096 #kg/m^3\n",
    "C_p_conc = 0.96  #kJ/kg.K\n",
    "C_p_room = air_room.Cp #kJ/kg.K\n",
    "C_pinsulation = 1100 # kJ/kg.K\n",
    "k_insulation = 1.18 # Thermal Conductivity of 2\" Rigid Foam Polystyrene Panels\n",
    "k_concrete = 0.03 # Thermal Conductivity kW/m K\n",
    "H_concrete = 0.425 # m thickness of the concrete layer\n",
    "H_insulation = 0.05 #m\n",
    "\n",
    "import schemdraw as schem\n",
    "import schemdraw.elements as e\n",
    "from Libraries import HT_thermal_resistance as res\n",
    "Rpp = []\n",
    "Rpp.append(res.Resistance(\"$R''_{cond,ins}$\",\"W/m^2\"))\n",
    "Rpp.append(res.Resistance(\"$R''_{cond,conc}$\",\"W/m^2\"))\n",
    "Rpp[0].cond_plane(k_ins,H_ins)\n",
    "Rpp[1].cond_plane(k_concrete,H_concrete)\n",
    "Rpp_tot = Rpp[0].R + Rpp[1].R\n",
    "\n",
    "d = schem.Drawing()\n",
    "d.add(e.DOT, botlabel = \"$T_{s,upper}$\")\n",
    "d.add(e.RES, d='right', label=Rpp[0].name)\n",
    "d.add(e.DOT, botlabel = \"$T_{mid}$\")\n",
    "d.add(e.RES, d='right', label=Rpp[1].name)\n",
    "d.add(e.DOT, botlabel = \"$T_{s,lower}$\")\n",
    "d.add(e.ARROW, toplabel = \"$q''_{weather}$\", endpts= [[-2.25,0],[-0.25,0]])\n",
    "d.add(e.ARROW, toplabel = \"$q''_{cond}$\", endpts= [[6.25,0],[8.25,0]])\n",
    "d.draw()"
   ]
  },
  {
   "cell_type": "markdown",
   "metadata": {
    "datalore": {
     "hide_input_from_viewers": false,
     "hide_output_from_viewers": false,
     "type": "MD"
    }
   },
   "source": [
    "## Main Code\n",
    "\n",
    "The integration with respect to time of the dTdt[] array (seen above) is realized with the adaptive time-stepping method LSODA available in the library `scipy.integrate` for initial value problem (IVP). This solves for the change of roof, ceiling, and room temperatures over a year. The time step for this is set at 15 mins. The LSODA method automatically subdivides this time step into smaller sub-time steps if the solution experiences large fluctuations. This method guarantees the stability of the simulation if the maximum time steps (15 mins) is small enough. A convergence analysis performed by the instructor determined 15 mins was a good compromise of stability and computational speed."
   ]
  },
  {
   "cell_type": "code",
   "execution_count": 199,
   "metadata": {
    "datalore": {
     "hide_input_from_viewers": false,
     "hide_output_from_viewers": false,
     "type": "CODE"
    }
   },
   "outputs": [
    {
     "ename": "NameError",
     "evalue": "NameError: name 'A' is not defined",
     "output_type": "error",
     "traceback": [
      "\u001b[0;31m---------------------------------------------------------------------------",
      "Traceback (most recent call last)",
      "    at line 3 in <module>",
      "    at line 576 in solve_ivp(fun, t_span, y0, method, t_eval, dense_output, events, vectorized, args, **options)",
      "    at line 181 in step(self)",
      "    at line 148 in _step_impl(self)",
      "    at line 1346 in run(self, f, jac, y0, t0, t1, f_params, jac_params)",
      "    at line 138 in fun(t, y)",
      "    at line 20 in fun_wrapped(t, y)",
      "    at line 52 in f_room(t, T)",
      "NameError: name 'A' is not defined"
     ]
    }
   ],
   "source": [
    "tmax = t_data[-1]\n",
    "mask = np.where(t_data <= tmax)\n",
    "sol = solve_ivp(f_room,[0,tmax],[f_T_atm(t_data[0]),T_sp,T_sp,0],method='LSODA',t_eval=t_data[mask],max_step=DT_room)\n"
   ]
  },
  {
   "cell_type": "code",
   "execution_count": 203,
   "metadata": {
    "datalore": {
     "hide_input_from_viewers": false,
     "hide_output_from_viewers": false,
     "type": "CODE"
    }
   },
   "outputs": [
    {
     "ename": "AttributeError",
     "evalue": "AttributeError: 'function' object has no attribute 'y'",
     "output_type": "error",
     "traceback": [
      "\u001b[0;31m---------------------------------------------------------------------------",
      "Traceback (most recent call last)",
      "    at line 6 in <module>",
      "AttributeError: 'function' object has no attribute 'y'"
     ]
    },
    {
     "data": {
      "image/png": "[encoded data removed]"
     },
     "metadata": {
      "image/png": {}
     },
     "output_type": "display_data"
    }
   ],
   "source": [
    "import matplotlib.pyplot as plt\n",
    "from sympy import solve as sol\n",
    "\n",
    "plt.figure(dpi=100)\n",
    "plt.title(\"Surface temperature\")\n",
    "plt.plot(sol.y[0])\n",
    "plt.xlabel(\"increments of 15 mins\")\n",
    "plt.show()"
   ]
  },
  {
   "cell_type": "markdown",
   "metadata": {
    "datalore": {
     "hide_input_from_viewers": false,
     "hide_output_from_viewers": false,
     "type": "MD"
    }
   },
   "source": [
    "### Output\n",
    "\n",
    "The solution is stored in the weather dataframe using two new columns, one for upper surface temperature, the other as the cooling energy needed to maintain target temperature on the lower surface."
   ]
  },
  {
   "cell_type": "code",
   "execution_count": 202,
   "metadata": {
    "datalore": {
     "hide_input_from_viewers": false,
     "hide_output_from_viewers": false,
     "type": "CODE"
    }
   },
   "outputs": [
    {
     "ename": "AttributeError",
     "evalue": "AttributeError: 'function' object has no attribute 'y'",
     "output_type": "error",
     "traceback": [
      "\u001b[0;31m---------------------------------------------------------------------------",
      "Traceback (most recent call last)",
      "    at line 2 in <module>",
      "AttributeError: 'function' object has no attribute 'y'"
     ]
    }
   ],
   "source": [
    "from sympy import solve as sol\n",
    "weather['Tsup'] = sol.y[0] #gets T_s,up\n",
    "weather['q_cool'] = np.maximum(k*(sol.y[0] - T_s_lower)/H*A,0.)"
   ]
  },
  {
   "cell_type": "code",
   "execution_count": 91,
   "metadata": {
    "datalore": {
     "hide_input_from_viewers": false,
     "hide_output_from_viewers": false,
     "type": "CODE"
    }
   },
   "outputs": [
    {
     "ename": "KeyError",
     "evalue": "KeyError: 'q_cool'",
     "output_type": "error",
     "traceback": [
      "\u001b[0;31m---------------------------------------------------------------------------",
      "Traceback (most recent call last)",
      "    at line 1 in <module>",
      "    at line 3458 in __getitem__(self, key)",
      "    at line 3363 in get_loc(self, key, method, tolerance)",
      "KeyError: 'q_cool'"
     ]
    }
   ],
   "source": [
    "print(\"Maximum cooling demand: %.0f W\" %weather['q_cool'].max())\n",
    "print(\"on %s \" %weather.index[weather['q_cool'].argmax()].strftime(\"%m/%d/%Y, %H:%M:%S\"))"
   ]
  },
  {
   "cell_type": "code",
   "execution_count": 92,
   "metadata": {
    "datalore": {
     "hide_input_from_viewers": false,
     "hide_output_from_viewers": false,
     "type": "CODE"
    }
   },
   "outputs": [
    {
     "ename": "KeyError",
     "evalue": "KeyError: 'q_cool'",
     "output_type": "error",
     "traceback": [
      "\u001b[0;31m---------------------------------------------------------------------------",
      "Traceback (most recent call last)",
      "    at line 1 in <module>",
      "    at line 3458 in __getitem__(self, key)",
      "    at line 3363 in get_loc(self, key, method, tolerance)",
      "KeyError: 'q_cool'"
     ]
    }
   ],
   "source": [
    "print(\"on %s \" %weather.index[weather['q_cool'].argmax()].strftime(\"%m/%d/%Y, at %H:%M:%S\"))"
   ]
  },
  {
   "cell_type": "code",
   "execution_count": 93,
   "metadata": {
    "datalore": {
     "hide_input_from_viewers": false,
     "hide_output_from_viewers": false,
     "type": "CODE"
    }
   },
   "outputs": [
    {
     "ename": "KeyError",
     "evalue": "KeyError: 'q_cool'",
     "output_type": "error",
     "traceback": [
      "\u001b[0;31m---------------------------------------------------------------------------",
      "Traceback (most recent call last)",
      "    at line 1 in <module>",
      "    at line 958 in __call__(self, *args, **kwargs)",
      "    at line 3458 in __getitem__(self, key)",
      "    at line 3363 in get_loc(self, key, method, tolerance)",
      "KeyError: 'q_cool'"
     ]
    }
   ],
   "source": [
    "ax0 = weather.plot(y='q_cool')\n",
    "weather.plot(y='Precipitation',ax=ax0, secondary_y=True)\n"
   ]
  },
  {
   "cell_type": "markdown",
   "metadata": {
    "datalore": {
     "hide_input_from_viewers": false,
     "hide_output_from_viewers": false,
     "type": "MD"
    }
   },
   "source": [
    "## Piping Inside the Ground\n",
    "\n",
    "We consider a closed loop pipe system containing water. From the given assumptions, the water should arrive at the heat exchanger with a temperature of $\\mathrm{12^\\circ C}$ and exits the heat exchanger at $\\mathrm{22^\\circ C}$. Assuming that these temperatures are the temperatures at the entrance of the pipe ($\\mathrm{12^\\circ C}$) and the exit ($\\mathrm{22^\\circ C}$), the heat transfer between the ground and the water circulating in a pipe buried into it is:\n",
    "\n",
    "$$\n",
    "q=\\dot{m}C_p(T_{m,i}-T_{m,o})\\;\\;\\;\\;\\;\\mathrm{Eq\\;(3)}\n",
    "$$\n",
    "where $\\dot{m}$ is the mass flow rate.\n",
    "\n",
    "Using a 1\" inside diameter of HDPE pipes and the maximum cooling demand of 10000W (slightly more that the maximum cooling demand divided by the efficacy of the system), Eq. (3) is used to determine the flow rate. This in turn defines the convection coefficient of the flow within the pipe using the Dittus Boettler correlation. \n",
    "\n",
    "Assuming that the outside surface of the pipe is at $\\mathrm{0^\\circ C}$, the total resistance between the flow and the snow per unit length is:\n",
    "\n",
    "$$\n",
    "R'_{tot}=R'_{conv,i}+R'_{cond}\n",
    "$$\n",
    "\n",
    "$L$ is then the solution of the equation for the variation of temperature between the inlet and outlet of the pipe for the target outlet temperature $T_{m,o}$.\n",
    "\n",
    "$$\n",
    "\\frac{T_\\infty-T_{m,o}}{T_\\infty-T_{m,i}}=\\exp\\left(-\\frac{1}{\\dot{m}C_pR_\\text{tot}}\\right)\n",
    "$$\n",
    "\n",
    "First, assuming 1D and steady convection on the outside of the pipe, we must solve for $R'_{tot}$. Since:\n",
    "\n",
    "$$\n",
    "R_{tot}=\\frac{R'_{tot}}{L}\n",
    "$$\n",
    "\n",
    "the pipe length is:\n",
    "\n",
    "$$\n",
    "L=-\\dot{m}C_pR'_\\text{tot}\\ln\\frac{T_\\infty-T_{m,o}}{T_\\infty-T_{m,i}}\n",
    "$$"
   ]
  },
  {
   "cell_type": "code",
   "execution_count": 168,
   "metadata": {
    "datalore": {
     "hide_input_from_viewers": false,
     "hide_output_from_viewers": false,
     "type": "CODE"
    }
   },
   "outputs": [
    {
     "ename": "NameError",
     "evalue": "NameError: name 'q_cool_max' is not defined",
     "output_type": "error",
     "traceback": [
      "\u001b[0;31m---------------------------------------------------------------------------",
      "Traceback (most recent call last)",
      "    at line 4 in <module>",
      "NameError: name 'q_cool_max' is not defined"
     ]
    }
   ],
   "source": [
    "Gl\n",
    "#ground\n",
    "Tmi = 12. #C\n",
    "Tmo = 22. #C\n",
    "q_out = q_cool_max #W found based on q_weather,max & q_ppl, max\n",
    "DT_ground = Tmo - Tmi\n",
    "Tm = (Tmo + Tmi)/2\n",
    "water_Tm = thermo.Fluid('water',Tm,\"C\")\n",
    "mdot = q_cool_max/(water_Tm.Cp*abs(DT_ground))\n",
    "print(\"mass flow rate: %.4f kg/m^3\" %mdot)\n",
    "Di = 1*0.0254\n",
    "Do = Di + 0.3*0.0254\n",
    "kpipe = 2.25\n",
    "A = np.pi*Di**2/4\n",
    "Um = mdot/(water_Tm.rho*A)\n",
    "print(\"Average velocity: %.3f m/s\" %Um)"
   ]
  },
  {
   "cell_type": "code",
   "execution_count": 198,
   "metadata": {
    "datalore": {
     "hide_input_from_viewers": false,
     "hide_output_from_viewers": false,
     "type": "CODE"
    }
   },
   "outputs": [
    {
     "ename": "NameError",
     "evalue": "NameError: name 'Di' is not defined",
     "output_type": "error",
     "traceback": [
      "\u001b[0;31m---------------------------------------------------------------------------",
      "Traceback (most recent call last)",
      "    at line 6 in <module>",
      "NameError: name 'Di' is not defined"
     ]
    }
   ],
   "source": [
    "from Libraries import HT_thermal_resistance as res\n",
    "from Libraries import HT_internal_convection as intconv\n",
    "Rp = []\n",
    "Rp.append(res.Resistance(\"$R'_{conv,i}$\", \"W/m\"))\n",
    "Rp.append(res.Resistance(\"$R'_{cond}$\", \"W/m\"))\n",
    "pipeflow = intconv.PipeFlow(D=Di,L=1,Um=Um,nu=water_Tm.nu)\n",
    "print(\"Re_D_pipe= %.0f\" %pipeflow.Re)\n",
    "pipeflow.Dittus_Boelter(mode='cooling',Pr=water_Tm.Pr)\n",
    "hint = pipeflow.Nu*water_Tm.k/Di\n",
    "print(\"h_int=%.1f W/m^2.K\" %hint)\n",
    "Rp[0].convection(h=hint,A=np.pi*Di)\n",
    "\n",
    "# conduction\n",
    "Rp[1].cond_cylinder(k=kpipe,ra=Di,rb=Do,L=1.)\n",
    "Rptot = Rp[0].R + Rp[1].R\n",
    "T_infty=0.\n",
    "L = intconv.L_given_other_params(T_infty,Tmo,Tmi,mdot,water_Tm.Cp,Rptot)"
   ]
  },
  {
   "cell_type": "code",
   "execution_count": null,
   "metadata": {
    "datalore": {
     "hide_input_from_viewers": false,
     "hide_output_from_viewers": false,
     "type": "CODE"
    }
   },
   "outputs": [],
   "source": [
    "print(\"The necessary length of the pipe is %.0f m\" %L)"
   ]
  }
 ],
 "metadata": {
  "datalore": {
   "base_environment": "default",
   "computation_mode": "JUPYTER",
   "package_manager": "pip",
   "packages": [
    {
     "name": "openpyxl",
     "source": "PIP",
     "version": "3.0.9"
    },
    {
     "name": "schemdraw",
     "source": "PIP",
     "version": "0.14"
    }
   ],
   "version": 1
  },
  "kernelspec": {
   "display_name": "Python 3 (ipykernel)",
   "language": "python",
   "name": "python3"
  },
  "language_info": {
   "codemirror_mode": {
    "name": "ipython",
    "version": 3
   },
   "file_extension": ".py",
   "mimetype": "text/x-python",
   "name": "python",
   "nbconvert_exporter": "python",
   "pygments_lexer": "ipython3",
   "version": "3.9.7"
  }
 },
 "nbformat": 4,
 "nbformat_minor": 4
}
